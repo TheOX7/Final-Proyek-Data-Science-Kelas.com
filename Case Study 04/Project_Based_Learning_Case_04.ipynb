{
 "cells": [
  {
   "cell_type": "markdown",
   "metadata": {
    "_uuid": "2f82cc24efc6283e5a98cadb78fc1a465e44c143",
    "collapsed": true
   },
   "source": [
    "## Import Libraries"
   ]
  },
  {
   "cell_type": "code",
   "execution_count": 2,
   "metadata": {
    "_uuid": "da0236e4b36ce514c1fec3fd72f236d1fa259131"
   },
   "outputs": [],
   "source": [
    "# Importing the libraries, fill the import name libraries below\n",
    "import numpy as np\n",
    "import matplotlib.pyplot as plt\n",
    "plt.style.use('fivethirtyeight')\n",
    "import pandas as pd\n",
    "from tensorflow.keras.optimizers import SGD\n",
    "from sklearn.preprocessing import MinMaxScaler\n",
    "\n",
    "#Import keras libraries that you need\n",
    "from keras.models import Sequential\n",
    "from keras.layers import Dense, LSTM, Dropout, GRU, Bidirectional\n",
    "import math\n",
    "from sklearn.metrics import mean_squared_error"
   ]
  },
  {
   "cell_type": "markdown",
   "metadata": {},
   "source": [
    "# EDA"
   ]
  },
  {
   "cell_type": "code",
   "execution_count": 46,
   "metadata": {
    "_uuid": "b288a8e2caf6196daec9cd2bc4ca78fe50345845"
   },
   "outputs": [],
   "source": [
    "# Some functions to help out with this code\n",
    "def prediction_plot(test, predicted):\n",
    "    plt.figure(figsize=(15, 6))\n",
    "    plt.plot(test, color='red', label='Real Stock Price')\n",
    "    plt.plot(predicted, color='blue', label='Predicted Stock Price')\n",
    "    plt.title('Stock Price Prediction')\n",
    "    plt.xlabel('Time')\n",
    "    plt.ylabel('Stock Price')\n",
    "    plt.xticks(rotation=45) \n",
    "    plt.legend()\n",
    "    plt.tight_layout()\n",
    "    plt.show()\n",
    "\n",
    "def rmse_eval(test,predicted):\n",
    "    rmse = math.sqrt(mean_squared_error(test, predicted))\n",
    "    print(\"The root mean squared error is {}.\".format(np.round(rmse, 3)))"
   ]
  },
  {
   "cell_type": "code",
   "execution_count": 4,
   "metadata": {
    "_uuid": "4cf10cf27420eb383b93b15c0895139ea96c0ed3"
   },
   "outputs": [],
   "source": [
    "# Import Dataset\n",
    "dataset = pd.read_csv('all_stocks_2006-01-01_to_2018-01-01.csv', index_col='Date', parse_dates=['Date']) #import dataset based on your directory"
   ]
  },
  {
   "cell_type": "code",
   "execution_count": 5,
   "metadata": {},
   "outputs": [
    {
     "data": {
      "text/html": [
       "<div>\n",
       "<style scoped>\n",
       "    .dataframe tbody tr th:only-of-type {\n",
       "        vertical-align: middle;\n",
       "    }\n",
       "\n",
       "    .dataframe tbody tr th {\n",
       "        vertical-align: top;\n",
       "    }\n",
       "\n",
       "    .dataframe thead th {\n",
       "        text-align: right;\n",
       "    }\n",
       "</style>\n",
       "<table border=\"1\" class=\"dataframe\">\n",
       "  <thead>\n",
       "    <tr style=\"text-align: right;\">\n",
       "      <th></th>\n",
       "      <th>Open</th>\n",
       "      <th>High</th>\n",
       "      <th>Low</th>\n",
       "      <th>Close</th>\n",
       "      <th>Volume</th>\n",
       "      <th>Name</th>\n",
       "    </tr>\n",
       "    <tr>\n",
       "      <th>Date</th>\n",
       "      <th></th>\n",
       "      <th></th>\n",
       "      <th></th>\n",
       "      <th></th>\n",
       "      <th></th>\n",
       "      <th></th>\n",
       "    </tr>\n",
       "  </thead>\n",
       "  <tbody>\n",
       "    <tr>\n",
       "      <th>2006-01-03</th>\n",
       "      <td>77.76</td>\n",
       "      <td>79.35</td>\n",
       "      <td>77.24</td>\n",
       "      <td>79.11</td>\n",
       "      <td>3117200</td>\n",
       "      <td>MMM</td>\n",
       "    </tr>\n",
       "    <tr>\n",
       "      <th>2006-01-04</th>\n",
       "      <td>79.49</td>\n",
       "      <td>79.49</td>\n",
       "      <td>78.25</td>\n",
       "      <td>78.71</td>\n",
       "      <td>2558000</td>\n",
       "      <td>MMM</td>\n",
       "    </tr>\n",
       "    <tr>\n",
       "      <th>2006-01-05</th>\n",
       "      <td>78.41</td>\n",
       "      <td>78.65</td>\n",
       "      <td>77.56</td>\n",
       "      <td>77.99</td>\n",
       "      <td>2529500</td>\n",
       "      <td>MMM</td>\n",
       "    </tr>\n",
       "    <tr>\n",
       "      <th>2006-01-06</th>\n",
       "      <td>78.64</td>\n",
       "      <td>78.90</td>\n",
       "      <td>77.64</td>\n",
       "      <td>78.63</td>\n",
       "      <td>2479500</td>\n",
       "      <td>MMM</td>\n",
       "    </tr>\n",
       "    <tr>\n",
       "      <th>2006-01-09</th>\n",
       "      <td>78.50</td>\n",
       "      <td>79.83</td>\n",
       "      <td>78.46</td>\n",
       "      <td>79.02</td>\n",
       "      <td>1845600</td>\n",
       "      <td>MMM</td>\n",
       "    </tr>\n",
       "  </tbody>\n",
       "</table>\n",
       "</div>"
      ],
      "text/plain": [
       "             Open   High    Low  Close   Volume Name\n",
       "Date                                                \n",
       "2006-01-03  77.76  79.35  77.24  79.11  3117200  MMM\n",
       "2006-01-04  79.49  79.49  78.25  78.71  2558000  MMM\n",
       "2006-01-05  78.41  78.65  77.56  77.99  2529500  MMM\n",
       "2006-01-06  78.64  78.90  77.64  78.63  2479500  MMM\n",
       "2006-01-09  78.50  79.83  78.46  79.02  1845600  MMM"
      ]
     },
     "execution_count": 5,
     "metadata": {},
     "output_type": "execute_result"
    }
   ],
   "source": [
    "dataset.head()"
   ]
  },
  {
   "cell_type": "code",
   "execution_count": 6,
   "metadata": {},
   "outputs": [
    {
     "name": "stdout",
     "output_type": "stream",
     "text": [
      "<class 'pandas.core.frame.DataFrame'>\n",
      "DatetimeIndex: 93612 entries, 2006-01-03 to 2017-12-29\n",
      "Data columns (total 6 columns):\n",
      " #   Column  Non-Null Count  Dtype  \n",
      "---  ------  --------------  -----  \n",
      " 0   Open    93587 non-null  float64\n",
      " 1   High    93602 non-null  float64\n",
      " 2   Low     93592 non-null  float64\n",
      " 3   Close   93612 non-null  float64\n",
      " 4   Volume  93612 non-null  int64  \n",
      " 5   Name    93612 non-null  object \n",
      "dtypes: float64(4), int64(1), object(1)\n",
      "memory usage: 5.0+ MB\n"
     ]
    }
   ],
   "source": [
    "dataset.info()"
   ]
  },
  {
   "cell_type": "code",
   "execution_count": 7,
   "metadata": {},
   "outputs": [
    {
     "data": {
      "text/plain": [
       "Open      25\n",
       "High      10\n",
       "Low       20\n",
       "Close      0\n",
       "Volume     0\n",
       "Name       0\n",
       "dtype: int64"
      ]
     },
     "execution_count": 7,
     "metadata": {},
     "output_type": "execute_result"
    }
   ],
   "source": [
    "dataset.isnull().sum()"
   ]
  },
  {
   "cell_type": "code",
   "execution_count": 8,
   "metadata": {},
   "outputs": [],
   "source": [
    "open_mv = round((dataset['Open'].isnull().sum())/len(dataset), 5)\n",
    "high_mv = round((dataset['High'].isnull().sum())/len(dataset), 5)\n",
    "low_mv = round((dataset['Low'].isnull().sum())/len(dataset), 5)"
   ]
  },
  {
   "cell_type": "code",
   "execution_count": 9,
   "metadata": {},
   "outputs": [
    {
     "name": "stdout",
     "output_type": "stream",
     "text": [
      "Missing Value (%)\n",
      "'Open' --> 0.00027 %\n",
      "'High' --> 0.00011 %\n",
      "'Low' --> 0.00021 %\n"
     ]
    }
   ],
   "source": [
    "print(\"Missing Value (%)\")\n",
    "print(f\"'Open' --> {open_mv} %\")\n",
    "print(f\"'High' --> {high_mv} %\")\n",
    "print(f\"'Low' --> {low_mv} %\")"
   ]
  },
  {
   "cell_type": "code",
   "execution_count": 10,
   "metadata": {},
   "outputs": [],
   "source": [
    "dataset = dataset.dropna()"
   ]
  },
  {
   "cell_type": "code",
   "execution_count": 11,
   "metadata": {
    "_uuid": "fb4c9db6d8a5bcf20ffad41747cfa5b6215ba220"
   },
   "outputs": [
    {
     "name": "stderr",
     "output_type": "stream",
     "text": [
      "C:\\Users\\marse\\AppData\\Local\\Temp\\ipykernel_27616\\1044211954.py:2: FutureWarning: Value based partial slicing on non-monotonic DatetimeIndexes with non-existing keys is deprecated and will raise a KeyError in a future Version.\n",
      "  training_set = dataset['2012':'2016'].iloc[:,1:2].values\n",
      "C:\\Users\\marse\\AppData\\Local\\Temp\\ipykernel_27616\\1044211954.py:3: FutureWarning: Value based partial slicing on non-monotonic DatetimeIndexes with non-existing keys is deprecated and will raise a KeyError in a future Version.\n",
      "  test_set = dataset['2017':].iloc[:,1:2].values\n"
     ]
    }
   ],
   "source": [
    "# Splitting training (2012 - 2016) & test (2017) set\n",
    "training_set = dataset['2012':'2016'].iloc[:,1:2].values\n",
    "test_set = dataset['2017':].iloc[:,1:2].values"
   ]
  },
  {
   "cell_type": "code",
   "execution_count": 12,
   "metadata": {},
   "outputs": [
    {
     "name": "stdout",
     "output_type": "stream",
     "text": [
      "Training Dataset Shape : (38997, 1)\n",
      "Test Dataset Shape : (7757, 1)\n"
     ]
    }
   ],
   "source": [
    "print(f\"Training Dataset Shape : {training_set.shape}\")\n",
    "print(f\"Test Dataset Shape : {test_set.shape}\")"
   ]
  },
  {
   "cell_type": "code",
   "execution_count": 13,
   "metadata": {
    "_uuid": "bf5a9463d58e73852d2b70be9611e8cf1f4166fd"
   },
   "outputs": [
    {
     "name": "stderr",
     "output_type": "stream",
     "text": [
      "C:\\Users\\marse\\AppData\\Local\\Temp\\ipykernel_27616\\3725722439.py:3: FutureWarning: Value based partial slicing on non-monotonic DatetimeIndexes with non-existing keys is deprecated and will raise a KeyError in a future Version.\n",
      "  dataset[\"High\"]['2012':'2016'].plot(figsize=(16,4),legend=True)\n",
      "C:\\Users\\marse\\AppData\\Local\\Temp\\ipykernel_27616\\3725722439.py:4: FutureWarning: Value based partial slicing on non-monotonic DatetimeIndexes with non-existing keys is deprecated and will raise a KeyError in a future Version.\n",
      "  dataset[\"High\"]['2017':].plot(figsize=(16,4),legend=True)\n"
     ]
    },
    {
     "data": {
      "image/png": "[encoded data removed]",
      "text/plain": [
       "<Figure size 1152x288 with 1 Axes>"
      ]
     },
     "metadata": {},
     "output_type": "display_data"
    }
   ],
   "source": [
    "#Checking for stock's market company with line plot\n",
    "#Write your code below\n",
    "dataset[\"High\"]['2012':'2016'].plot(figsize=(16,4),legend=True)\n",
    "dataset[\"High\"]['2017':].plot(figsize=(16,4),legend=True)\n",
    "plt.legend(['Training set (2012-2017)','Test set (2017 Beyond)'])\n",
    "plt.title('Stock Price')\n",
    "plt.show()"
   ]
  },
  {
   "cell_type": "markdown",
   "metadata": {},
   "source": [
    "### EDA Insights\n",
    "- Terdapat beberapa missing value pada kolom 'Open', 'High', dan 'Low'. Dimana persentase missing value dari masing-masing kolom sebesar sangat kecil. Dikarenakan persentase missing valuenya dibawah 10%, maka row/baris yang memiliki missing value akan didrop.\n",
    "- Berdasarkan grafik \"Stock Price\" diatas, dapat dilihat bahwa stock price semakin menaik dengan seiringnya waktu. Jadi seharusnya model yang dibuat akan menghasilkan prediksi yang akan ikut menaik juga."
   ]
  },
  {
   "cell_type": "code",
   "execution_count": 14,
   "metadata": {
    "_uuid": "bcc9c36165fc07d258bd5ea87874d2da17fa4a4d"
   },
   "outputs": [],
   "source": [
    "# Scaling with minmaxscaller for data train\n",
    "sc = MinMaxScaler(feature_range=(0,1))\n",
    "training_set_scaled = sc.fit_transform(training_set)"
   ]
  },
  {
   "cell_type": "code",
   "execution_count": 15,
   "metadata": {},
   "outputs": [
    {
     "data": {
      "text/plain": [
       "(38997, 1)"
      ]
     },
     "execution_count": 15,
     "metadata": {},
     "output_type": "execute_result"
    }
   ],
   "source": [
    "#checking shape of data train\n",
    "training_set_scaled.shape"
   ]
  },
  {
   "cell_type": "code",
   "execution_count": 16,
   "metadata": {},
   "outputs": [],
   "source": [
    "# create data structure to fill how many row for input in your model at data train\n",
    "X_train = []\n",
    "y_train = []\n",
    "for i in range(60,38997):\n",
    "    #fill for x_train and y_train here\n",
    "    X_train.append(training_set_scaled[i-60:i,0])\n",
    "    y_train.append(training_set_scaled[i,0])\n",
    "    \n",
    "#change it into the array\n",
    "X_train, y_train = np.array(X_train), np.array(y_train)"
   ]
  },
  {
   "cell_type": "code",
   "execution_count": 17,
   "metadata": {
    "_uuid": "637f699d3c4bde4b783de56ed4dd70a1bf59760d"
   },
   "outputs": [],
   "source": [
    "# Reshaping X_train before modelling\n",
    "X_train = np.reshape(X_train, (X_train.shape[0],X_train.shape[1],1))"
   ]
  },
  {
   "cell_type": "markdown",
   "metadata": {},
   "source": [
    "## Modelling"
   ]
  },
  {
   "cell_type": "markdown",
   "metadata": {},
   "source": [
    "### LSTM"
   ]
  },
  {
   "cell_type": "code",
   "execution_count": 18,
   "metadata": {},
   "outputs": [
    {
     "name": "stdout",
     "output_type": "stream",
     "text": [
      "Epoch 1/50\n",
      "1217/1217 [==============================] - 99s 75ms/step - loss: 0.0013\n",
      "Epoch 2/50\n",
      "1217/1217 [==============================] - 93s 76ms/step - loss: 7.5768e-04\n",
      "Epoch 3/50\n",
      "1217/1217 [==============================] - 92s 76ms/step - loss: 6.2568e-04\n",
      "Epoch 4/50\n",
      "1217/1217 [==============================] - 85s 70ms/step - loss: 5.9710e-04\n",
      "Epoch 5/50\n",
      "1217/1217 [==============================] - 86s 70ms/step - loss: 5.2146e-04\n",
      "Epoch 6/50\n",
      "1217/1217 [==============================] - 96s 79ms/step - loss: 5.0763e-04\n",
      "Epoch 7/50\n",
      "1217/1217 [==============================] - 110s 90ms/step - loss: 4.7803e-04\n",
      "Epoch 8/50\n",
      "1217/1217 [==============================] - 110s 91ms/step - loss: 4.4554e-04\n",
      "Epoch 9/50\n",
      "1217/1217 [==============================] - 137s 112ms/step - loss: 4.2991e-04\n",
      "Epoch 10/50\n",
      "1217/1217 [==============================] - 121s 100ms/step - loss: 4.2450e-04\n",
      "Epoch 11/50\n",
      "1217/1217 [==============================] - 104s 85ms/step - loss: 4.1848e-04\n",
      "Epoch 12/50\n",
      "1217/1217 [==============================] - 103s 84ms/step - loss: 3.9742e-04\n",
      "Epoch 13/50\n",
      "1217/1217 [==============================] - 104s 85ms/step - loss: 4.1291e-04\n",
      "Epoch 14/50\n",
      "1217/1217 [==============================] - 103s 84ms/step - loss: 3.8958e-04\n",
      "Epoch 15/50\n",
      "1217/1217 [==============================] - 110s 91ms/step - loss: 3.7223e-04\n",
      "Epoch 16/50\n",
      "1217/1217 [==============================] - 111s 92ms/step - loss: 3.7344e-04\n",
      "Epoch 17/50\n",
      "1217/1217 [==============================] - 107s 88ms/step - loss: 3.7773e-04\n",
      "Epoch 18/50\n",
      "1217/1217 [==============================] - 104s 85ms/step - loss: 3.6855e-04\n",
      "Epoch 19/50\n",
      "1217/1217 [==============================] - 103s 85ms/step - loss: 3.5015e-04\n",
      "Epoch 20/50\n",
      "1217/1217 [==============================] - 103s 85ms/step - loss: 3.5959e-04\n",
      "Epoch 21/50\n",
      "1217/1217 [==============================] - 102s 84ms/step - loss: 3.5461e-04\n",
      "Epoch 22/50\n",
      "1217/1217 [==============================] - 102s 84ms/step - loss: 3.4765e-04\n",
      "Epoch 23/50\n",
      "1217/1217 [==============================] - 102s 84ms/step - loss: 3.4588e-04\n",
      "Epoch 24/50\n",
      "1217/1217 [==============================] - 105s 86ms/step - loss: 3.3929e-04\n",
      "Epoch 25/50\n",
      "1217/1217 [==============================] - 103s 85ms/step - loss: 3.4814e-04\n",
      "Epoch 26/50\n",
      "1217/1217 [==============================] - 101s 83ms/step - loss: 3.2689e-04\n",
      "Epoch 27/50\n",
      "1217/1217 [==============================] - 101s 83ms/step - loss: 3.2771e-04\n",
      "Epoch 28/50\n",
      "1217/1217 [==============================] - 101s 83ms/step - loss: 3.2756e-04\n",
      "Epoch 29/50\n",
      "1217/1217 [==============================] - 104s 85ms/step - loss: 3.1756e-04\n",
      "Epoch 30/50\n",
      "1217/1217 [==============================] - 104s 85ms/step - loss: 3.1677e-04\n",
      "Epoch 31/50\n",
      "1217/1217 [==============================] - 103s 85ms/step - loss: 3.3120e-04\n",
      "Epoch 32/50\n",
      "1217/1217 [==============================] - 101s 83ms/step - loss: 3.0991e-04\n",
      "Epoch 33/50\n",
      "1217/1217 [==============================] - 94s 77ms/step - loss: 3.1959e-04\n",
      "Epoch 34/50\n",
      "1217/1217 [==============================] - 91s 75ms/step - loss: 3.1524e-04\n",
      "Epoch 35/50\n",
      "1217/1217 [==============================] - 93s 76ms/step - loss: 3.0343e-04\n",
      "Epoch 36/50\n",
      "1217/1217 [==============================] - 92s 75ms/step - loss: 3.1901e-04\n",
      "Epoch 37/50\n",
      "1217/1217 [==============================] - 93s 76ms/step - loss: 3.0177e-04\n",
      "Epoch 38/50\n",
      "1217/1217 [==============================] - 106s 87ms/step - loss: 3.0190e-04\n",
      "Epoch 39/50\n",
      "1217/1217 [==============================] - 99s 81ms/step - loss: 2.9706e-04\n",
      "Epoch 40/50\n",
      "1217/1217 [==============================] - 92s 76ms/step - loss: 2.9965e-04\n",
      "Epoch 41/50\n",
      "1217/1217 [==============================] - 94s 77ms/step - loss: 3.0141e-04\n",
      "Epoch 42/50\n",
      "1217/1217 [==============================] - 94s 77ms/step - loss: 2.8428e-04\n",
      "Epoch 43/50\n",
      "1217/1217 [==============================] - 92s 75ms/step - loss: 2.8196e-04\n",
      "Epoch 44/50\n",
      "1217/1217 [==============================] - 92s 75ms/step - loss: 2.8259e-04\n",
      "Epoch 45/50\n",
      "1217/1217 [==============================] - 92s 75ms/step - loss: 2.9087e-04\n",
      "Epoch 46/50\n",
      "1217/1217 [==============================] - 91s 75ms/step - loss: 2.9898e-04\n",
      "Epoch 47/50\n",
      "1217/1217 [==============================] - 92s 76ms/step - loss: 2.8728e-04\n",
      "Epoch 48/50\n",
      "1217/1217 [==============================] - 94s 77ms/step - loss: 2.9716e-04\n",
      "Epoch 49/50\n",
      "1217/1217 [==============================] - 93s 76ms/step - loss: 2.8885e-04\n",
      "Epoch 50/50\n",
      "1217/1217 [==============================] - 91s 75ms/step - loss: 2.6648e-04\n"
     ]
    },
    {
     "data": {
      "text/plain": [
       "<keras.src.callbacks.History at 0x1bbb0d0a560>"
      ]
     },
     "execution_count": 18,
     "metadata": {},
     "output_type": "execute_result"
    }
   ],
   "source": [
    "model_lstm = Sequential()\n",
    "\n",
    "# First LSTM layer with Dropout regularisation\n",
    "model_lstm.add(LSTM(units=50, return_sequences=True, input_shape=(X_train.shape[1],1)))\n",
    "model_lstm.add(Dropout(0.2))\n",
    "\n",
    "# Second LSTM layer\n",
    "model_lstm.add(LSTM(units=50, return_sequences=True))\n",
    "model_lstm.add(Dropout(0.2))\n",
    "\n",
    "# Third LSTM layer\n",
    "model_lstm.add(LSTM(units=50, return_sequences=True))\n",
    "model_lstm.add(Dropout(0.2))\n",
    "\n",
    "# Fourth LSTM layer\n",
    "model_lstm.add(LSTM(units=50))\n",
    "model_lstm.add(Dropout(0.2))\n",
    "\n",
    "# The output layer\n",
    "model_lstm.add(Dense(units=1))\n",
    "\n",
    "# Compiling the RNN\n",
    "model_lstm.compile(optimizer='rmsprop',loss='mean_squared_error')\n",
    "\n",
    "# Fitting to the training set\n",
    "model_lstm.fit(X_train, y_train, epochs=50, batch_size=32)"
   ]
  },
  {
   "cell_type": "markdown",
   "metadata": {},
   "source": [
    "#### Prediction"
   ]
  },
  {
   "cell_type": "code",
   "execution_count": 32,
   "metadata": {},
   "outputs": [
    {
     "name": "stderr",
     "output_type": "stream",
     "text": [
      "C:\\Users\\marse\\AppData\\Local\\Temp\\ipykernel_27616\\1176121625.py:2: FutureWarning: Value based partial slicing on non-monotonic DatetimeIndexes with non-existing keys is deprecated and will raise a KeyError in a future Version.\n",
      "  dataset_total = pd.concat((dataset[\"High\"][:'2016'],dataset[\"High\"]['2017':]),axis=0)\n"
     ]
    }
   ],
   "source": [
    "# Prepare for data test similar way for data train\n",
    "dataset_total = pd.concat((dataset[\"High\"][:'2016'],dataset[\"High\"]['2017':]),axis=0)\n",
    "test = dataset_total[len(dataset_total)-len(test_set) - 60:].values\n",
    "\n",
    "#Transform the inputs\n",
    "inputs = test.reshape(-1,1)\n",
    "inputs = sc.transform(inputs)"
   ]
  },
  {
   "cell_type": "code",
   "execution_count": 41,
   "metadata": {},
   "outputs": [
    {
     "name": "stdout",
     "output_type": "stream",
     "text": [
      "243/243 [==============================] - 7s 29ms/step\n"
     ]
    }
   ],
   "source": [
    "# Preparing X_test and predicting the prices of the stock's that you choose\n",
    "X_test = []\n",
    "for i in range(60, 7817):\n",
    "    X_test.append(inputs[i-60:i,0])\n",
    "    \n",
    "X_test = np.array(X_test)\n",
    "X_test = np.reshape(X_test, (X_test.shape[0],X_test.shape[1],1))\n",
    "\n",
    "#Predicting stocks price\n",
    "predicted_stock_price = model_lstm.predict(X_test)\n",
    "predicted_stock_price = sc.inverse_transform(predicted_stock_price)"
   ]
  },
  {
   "cell_type": "code",
   "execution_count": 42,
   "metadata": {},
   "outputs": [
    {
     "data": {
      "image/png": "[encoded data removed]",
      "text/plain": [
       "<Figure size 1080x432 with 1 Axes>"
      ]
     },
     "metadata": {},
     "output_type": "display_data"
    }
   ],
   "source": [
    "# Visualizing the results for prediction\n",
    "prediction_plot(test_set, predicted_stock_price)"
   ]
  },
  {
   "cell_type": "code",
   "execution_count": 47,
   "metadata": {},
   "outputs": [
    {
     "name": "stdout",
     "output_type": "stream",
     "text": [
      "The root mean squared error is 28.151.\n"
     ]
    }
   ],
   "source": [
    "# Evaluating our model with RMSE function above\n",
    "rmse_eval(test_set,predicted_stock_price)"
   ]
  },
  {
   "cell_type": "markdown",
   "metadata": {},
   "source": [
    "### GRU"
   ]
  },
  {
   "cell_type": "code",
   "execution_count": 58,
   "metadata": {},
   "outputs": [
    {
     "name": "stdout",
     "output_type": "stream",
     "text": [
      "Epoch 1/50\n",
      "260/260 [==============================] - 97s 341ms/step - loss: 0.0064\n",
      "Epoch 2/50\n",
      "260/260 [==============================] - 95s 365ms/step - loss: 7.4635e-04\n",
      "Epoch 3/50\n",
      "260/260 [==============================] - 97s 372ms/step - loss: 7.3168e-04\n",
      "Epoch 4/50\n",
      "260/260 [==============================] - 103s 396ms/step - loss: 6.6788e-04\n",
      "Epoch 5/50\n",
      "260/260 [==============================] - 108s 416ms/step - loss: 6.6041e-04\n",
      "Epoch 6/50\n",
      "260/260 [==============================] - 97s 372ms/step - loss: 6.5163e-04\n",
      "Epoch 7/50\n",
      "260/260 [==============================] - 95s 367ms/step - loss: 6.1702e-04\n",
      "Epoch 8/50\n",
      "260/260 [==============================] - 96s 371ms/step - loss: 6.1323e-04\n",
      "Epoch 9/50\n",
      "260/260 [==============================] - 95s 366ms/step - loss: 5.8753e-04\n",
      "Epoch 10/50\n",
      "260/260 [==============================] - 96s 367ms/step - loss: 6.0014e-04\n",
      "Epoch 11/50\n",
      "260/260 [==============================] - 95s 366ms/step - loss: 5.9503e-04\n",
      "Epoch 12/50\n",
      "260/260 [==============================] - 95s 367ms/step - loss: 5.8202e-04\n",
      "Epoch 13/50\n",
      "260/260 [==============================] - 95s 366ms/step - loss: 5.6644e-04\n",
      "Epoch 14/50\n",
      "260/260 [==============================] - 95s 367ms/step - loss: 5.7008e-04\n",
      "Epoch 15/50\n",
      "260/260 [==============================] - 95s 367ms/step - loss: 5.2635e-04\n",
      "Epoch 16/50\n",
      "260/260 [==============================] - 95s 366ms/step - loss: 5.2616e-04\n",
      "Epoch 17/50\n",
      "260/260 [==============================] - 96s 370ms/step - loss: 5.3798e-04\n",
      "Epoch 18/50\n",
      "260/260 [==============================] - 95s 367ms/step - loss: 5.3837e-04\n",
      "Epoch 19/50\n",
      "260/260 [==============================] - 95s 365ms/step - loss: 5.4240e-04\n",
      "Epoch 20/50\n",
      "260/260 [==============================] - 95s 367ms/step - loss: 5.1248e-04\n",
      "Epoch 21/50\n",
      "260/260 [==============================] - 95s 367ms/step - loss: 5.2625e-04\n",
      "Epoch 22/50\n",
      "260/260 [==============================] - 96s 367ms/step - loss: 4.9223e-04\n",
      "Epoch 23/50\n",
      "260/260 [==============================] - 95s 367ms/step - loss: 5.1029e-04\n",
      "Epoch 24/50\n",
      "260/260 [==============================] - 95s 365ms/step - loss: 5.1095e-04\n",
      "Epoch 25/50\n",
      "260/260 [==============================] - 95s 366ms/step - loss: 4.9969e-04\n",
      "Epoch 26/50\n",
      "260/260 [==============================] - 95s 365ms/step - loss: 5.0108e-04\n",
      "Epoch 27/50\n",
      "260/260 [==============================] - 95s 367ms/step - loss: 4.9944e-04\n",
      "Epoch 28/50\n",
      "260/260 [==============================] - 95s 365ms/step - loss: 4.8968e-04\n",
      "Epoch 29/50\n",
      "260/260 [==============================] - 95s 365ms/step - loss: 5.0268e-04\n",
      "Epoch 30/50\n",
      "260/260 [==============================] - 95s 366ms/step - loss: 4.9720e-04\n",
      "Epoch 31/50\n",
      "260/260 [==============================] - 95s 366ms/step - loss: 4.6609e-04\n",
      "Epoch 32/50\n",
      "260/260 [==============================] - 95s 364ms/step - loss: 4.8566e-04\n",
      "Epoch 33/50\n",
      "260/260 [==============================] - 95s 367ms/step - loss: 4.8033e-04\n",
      "Epoch 34/50\n",
      "260/260 [==============================] - 95s 365ms/step - loss: 4.6464e-04\n",
      "Epoch 35/50\n",
      "260/260 [==============================] - 95s 366ms/step - loss: 4.9577e-04\n",
      "Epoch 36/50\n",
      "260/260 [==============================] - 95s 365ms/step - loss: 4.8937e-04\n",
      "Epoch 37/50\n",
      "260/260 [==============================] - 95s 365ms/step - loss: 4.7120e-04\n",
      "Epoch 38/50\n",
      "260/260 [==============================] - 95s 364ms/step - loss: 4.7197e-04\n",
      "Epoch 39/50\n",
      "260/260 [==============================] - 95s 367ms/step - loss: 4.7534e-04\n",
      "Epoch 40/50\n",
      "260/260 [==============================] - 96s 367ms/step - loss: 4.8208e-04\n",
      "Epoch 41/50\n",
      "260/260 [==============================] - 95s 366ms/step - loss: 4.7894e-04\n",
      "Epoch 42/50\n",
      "260/260 [==============================] - 95s 367ms/step - loss: 4.8036e-04\n",
      "Epoch 43/50\n",
      "260/260 [==============================] - 95s 365ms/step - loss: 4.6500e-04\n",
      "Epoch 44/50\n",
      "260/260 [==============================] - 95s 366ms/step - loss: 4.6025e-04\n",
      "Epoch 45/50\n",
      "260/260 [==============================] - 96s 367ms/step - loss: 4.5708e-04\n",
      "Epoch 46/50\n",
      "260/260 [==============================] - 98s 377ms/step - loss: 4.7350e-04\n",
      "Epoch 47/50\n",
      "260/260 [==============================] - 96s 369ms/step - loss: 4.6442e-04\n",
      "Epoch 48/50\n",
      "260/260 [==============================] - 96s 368ms/step - loss: 4.4641e-04\n",
      "Epoch 49/50\n",
      "260/260 [==============================] - 95s 365ms/step - loss: 4.3849e-04\n",
      "Epoch 50/50\n",
      "260/260 [==============================] - 95s 365ms/step - loss: 4.7301e-04\n"
     ]
    },
    {
     "data": {
      "text/plain": [
       "<keras.src.callbacks.History at 0x16efd9aba90>"
      ]
     },
     "execution_count": 58,
     "metadata": {},
     "output_type": "execute_result"
    }
   ],
   "source": [
    "# Sequential Modelling\n",
    "model = Sequential()\n",
    "\n",
    "# First LSTM layer with Dropout regularisation\n",
    "model.add(GRU(units=50, return_sequences=True, input_shape=(X_train.shape[1],1), activation='tanh'))\n",
    "model.add(Dropout(0.2))\n",
    "\n",
    "# Second GRU layer\n",
    "model.add(GRU(units=50, return_sequences=True, activation='tanh'))\n",
    "model.add(Dropout(0.2))\n",
    "\n",
    "# Third GRU layer, fill the code below\n",
    "model.add(GRU(units=50, return_sequences=True, activation='tanh'))\n",
    "model.add(Dropout(0.2))\n",
    "\n",
    "# Fourth GRU layer, fill the code below\n",
    "model.add(GRU(units=50, activation='tanh'))\n",
    "model.add(Dropout(0.2))\n",
    "\n",
    "# The output layer\n",
    "model.add(Dense(units=1))\n",
    "\n",
    "# Compiling\n",
    "model.compile(optimizer=SGD(learning_rate=0.01, momentum=0.9, nesterov=False),loss='mean_squared_error')\n",
    "\n",
    "# Train fitting for the model\n",
    "model.fit(X_train, y_train, epochs=50, batch_size=150, verbose=1)"
   ]
  },
  {
   "cell_type": "code",
   "execution_count": 59,
   "metadata": {
    "_uuid": "326fa85615622feb484cc4c848edeec6f7133913"
   },
   "outputs": [
    {
     "name": "stderr",
     "output_type": "stream",
     "text": [
      "C:\\Users\\marse\\AppData\\Local\\Temp\\ipykernel_24916\\1176121625.py:2: FutureWarning: Value based partial slicing on non-monotonic DatetimeIndexes with non-existing keys is deprecated and will raise a KeyError in a future Version.\n",
      "  dataset_total = pd.concat((dataset[\"High\"][:'2016'],dataset[\"High\"]['2017':]),axis=0)\n"
     ]
    }
   ],
   "source": [
    "# Prepare for data test similar way for data train\n",
    "dataset_total = pd.concat((dataset[\"High\"][:'2016'],dataset[\"High\"]['2017':]),axis=0)\n",
    "test = dataset_total[len(dataset_total)-len(test_set) - 60:].values\n",
    "\n",
    "#Transform the inputs\n",
    "inputs = test.reshape(-1,1)\n",
    "inputs = sc.transform(inputs)"
   ]
  },
  {
   "cell_type": "code",
   "execution_count": 67,
   "metadata": {},
   "outputs": [
    {
     "data": {
      "text/plain": [
       "(7817, 1)"
      ]
     },
     "execution_count": 67,
     "metadata": {},
     "output_type": "execute_result"
    }
   ],
   "source": [
    "#checking data test shape\n",
    "inputs.shape "
   ]
  },
  {
   "cell_type": "markdown",
   "metadata": {},
   "source": [
    "#### Prediction"
   ]
  },
  {
   "cell_type": "code",
   "execution_count": 62,
   "metadata": {
    "_uuid": "435b8024814939ac4fbd372baa0cd8cfc78f80bc"
   },
   "outputs": [
    {
     "name": "stdout",
     "output_type": "stream",
     "text": [
      "243/243 [==============================] - 9s 29ms/step\n"
     ]
    }
   ],
   "source": [
    "# Preparing X_test and predicting the prices of the stock's that you choose\n",
    "X_test = []\n",
    "for i in range(60, 7817):\n",
    "    X_test.append(inputs[i-60:i,0])\n",
    "    \n",
    "X_test = np.array(X_test)\n",
    "X_test = np.reshape(X_test, (X_test.shape[0],X_test.shape[1],1))\n",
    "\n",
    "#Predicting stocks price\n",
    "predicted_stock_price = model.predict(X_test)\n",
    "predicted_stock_price = sc.inverse_transform(predicted_stock_price)"
   ]
  },
  {
   "cell_type": "code",
   "execution_count": 63,
   "metadata": {},
   "outputs": [
    {
     "data": {
      "text/plain": [
       "array([[42.278294],\n",
       "       [49.58207 ],\n",
       "       [65.009224],\n",
       "       ...,\n",
       "       [74.45647 ],\n",
       "       [74.51107 ],\n",
       "       [74.472595]], dtype=float32)"
      ]
     },
     "execution_count": 63,
     "metadata": {},
     "output_type": "execute_result"
    }
   ],
   "source": [
    "(predicted_stock_price)"
   ]
  },
  {
   "cell_type": "code",
   "execution_count": 174,
   "metadata": {
    "_uuid": "b774a8e79e53eac89694cafef6b11aa99226b95f",
    "scrolled": false
   },
   "outputs": [
    {
     "data": {
      "image/png": "[encoded data removed]",
      "text/plain": [
       "<Figure size 1080x432 with 1 Axes>"
      ]
     },
     "metadata": {},
     "output_type": "display_data"
    }
   ],
   "source": [
    "# Visualizing the results for prediction\n",
    "prediction_plot(test_set, predicted_stock_price)"
   ]
  },
  {
   "cell_type": "code",
   "execution_count": 65,
   "metadata": {
    "_uuid": "f6f6db0b6e1f17ac63c06ce49856873d98ba5f00"
   },
   "outputs": [
    {
     "name": "stdout",
     "output_type": "stream",
     "text": [
      "The root mean squared error is 33.36028414130687.\n"
     ]
    }
   ],
   "source": [
    "# Evaluating our model with RMSE function above\n",
    "rmse_eval(test_set,predicted_stock_price)"
   ]
  },
  {
   "cell_type": "markdown",
   "metadata": {
    "_uuid": "a4cf704ab3cd091f63b7b9a1b9224a49f0913171"
   },
   "source": [
    "### Insight and advice"
   ]
  },
  {
   "cell_type": "markdown",
   "metadata": {},
   "source": [
    "<b>Insight</b> :\n",
    "- Berdasarkan kedua model yang dibuat, yaitu LSTM dan GRU. Bahwa nilai RMSE yang lebih kecil adalah model LSTM, yaitu dengan RMSE sebesar 28.15 %. Sedangkan model GRU sebesar 33.36 %.\n",
    "\n",
    "- Lalu pada akhir-akhir tahun 2017, prediksi & aktual value stock price merupakan value yang sedang klimaks atau tinggi-tingginya. Walaupun sisanya (pada bulan-bulan lainnya), value aktual & prediksinya sangat jauh perbandingannya dari stock price yang sedang klimaks tersebut.\n",
    "\n",
    "<b>Advice</b> :\n",
    "\n",
    "Berdasarkan kedua model yang dibuat, model LSTM merupakan yang terkecil nilai RMSE-nya yaitu sebesar 28.15 %. Jadi model ini yang bisa dideploy atau digunakan. \n",
    "\n",
    "Walaupun sebenarnya menurut saya agak besar untuk nilai RMSE-nya. Oleh karena itu, model tersebut harus dibuatkan hyperparameter tuning lagi, supaya mendapatkan parameter dengan value yang cocok dan RMSE yang lebih kecil lagi."
   ]
  }
 ],
 "metadata": {
  "kernelspec": {
   "display_name": "Python 3 (ipykernel)",
   "language": "python",
   "name": "python3"
  },
  "language_info": {
   "codemirror_mode": {
    "name": "ipython",
    "version": 3
   },
   "file_extension": ".py",
   "mimetype": "text/x-python",
   "name": "python",
   "nbconvert_exporter": "python",
   "pygments_lexer": "ipython3",
   "version": "3.10.7"
  }
 },
 "nbformat": 4,
 "nbformat_minor": 1
}
