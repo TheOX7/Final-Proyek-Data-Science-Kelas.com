{
 "cells": [
  {
   "cell_type": "markdown",
   "metadata": {},
   "source": [
    "### Context"
   ]
  },
  {
   "attachments": {},
   "cell_type": "markdown",
   "metadata": {},
   "source": [
    "League of Legends adalah MOBA (Multiplayer Online Battle Arena) di mana dalam permainannya terdapat 2 tim (biru dan merah) yang saling berhadapan. Dalam satu laga permainan, ada 3 jalur yang dijadikan medan perang, hutan dan pemainnya terbagi jadi 5 peran. Tujuan permainan ini adalah menjatuhkan Nexus atau base musuh dan memenangkan permainan."
   ]
  },
  {
   "cell_type": "markdown",
   "metadata": {},
   "source": [
    "### Content"
   ]
  },
  {
   "attachments": {},
   "cell_type": "markdown",
   "metadata": {},
   "source": [
    "Diketahui dataset berisi 10 menit dari pertandingan.  Game yang dimainkan berperingkat 10k (SOLO QUEUE Player) dari ELO Diamond I hingga level Master. ELO sendiri merupakan teknik pencarian pemain dengan peringkat atau tingkat keterampilan yang sejenis. Setiap permainan yang terjadi itu unik. GameId dapat membantu kamu mengambil lebih banyak atribut dari Riot API pada kolom dataset. \n",
    "\n",
    "Dari data Glossary & Variables, diketahui terdapat 19 fitur pertim (total 38) yang dikumpulkan setelah 10 menit game berlangsung. Data ini termasuk pembunuhan, kematian, emas, pengalaman dan level. Di sini kamu dibebaskan untuk melakukan beberapa rekayasa fitur untuk mendapatkan lebih banyak wawasan atau insight. \n",
    "\n",
    "Pada data diketahui juga bahwa kolom blueWins adalah nilai target atau nilai yang akan coba diprediksi, di mana jika Nilai 1 berarti tim biru menang, sedangkan jika Nilai 0 maka sebaliknya. "
   ]
  },
  {
   "cell_type": "markdown",
   "metadata": {},
   "source": [
    "### Glossary"
   ]
  },
  {
   "attachments": {},
   "cell_type": "markdown",
   "metadata": {},
   "source": [
    "- Warding totem: Item yang dapat diletakkan pemain di peta untuk mengungkap area terdekat. Sangat berguna untuk kontrol peta/tujuan. \n",
    "- Minions: Item yang dapat diletakkan pemain di peta untuk mengungkap area terdekat. Sangat berguna untuk kontrol peta/tujuan.\n",
    "- Jungle minions: NPC milik NO TEAM. Mereka memberi emas dan buff saat dibunuh oleh pemain.\n",
    "- Elite monsters: Monster dengan hp/damage tinggi yang memberikan bonus besar (gold/XP/stat) saat dibunuh oleh tim.\n",
    "- Dragons: Monster elit yang memberikan bonus tim saat terbunuh. Naga ke-4 yang dibunuh oleh tim memberikan bonus statistik yang sangat besar. The - - 5th dragon (Elder Dragon) menawarkan keuntungan besar bagi tim.\n",
    "- Herald: Monster elit yang memberikan bonus statistik saat dibunuh oleh pemain. Ini membantu untuk mendorong jalur dan menghancurkan struktur.\n",
    "- Towers: Struktur yang harus Anda hancurkan untuk mencapai Nexus musuh. Mereka memberi emas.\n",
    "- Level: Champion level. Mulai dari 1. Maksimal 18."
   ]
  },
  {
   "attachments": {},
   "cell_type": "markdown",
   "metadata": {},
   "source": [
    "### Variables"
   ]
  },
  {
   "attachments": {},
   "cell_type": "markdown",
   "metadata": {},
   "source": [
    "1.\tGameid : ID RIOT unik dari game. Dapat digunakan dengan Riot Games API.\n",
    "2.\tBluewins: Kolom target. 1 jika tim biru menang, 0 sebaliknya.\n",
    "3.\tblueWardsPlaced Jumlah totem penangkal yang ditempatkan oleh tim biru di peta\n",
    "4.\tblueWardsDestroyed : Jumlah totem penangkal musuh yang telah dihancurkan oleh tim biru\n",
    "5.\tblueFirstBlood : Pembunuhan pertama dari permainan. 1 jika tim biru melakukan pembunuhan pertama, 0 sebaliknya\n",
    "6.\tblueKills : Jumlah musuh yang dibunuh oleh tim biru\n",
    "7.\tblueDeaths : Jumlah kematian (tim biru)\n",
    "8.\tblueAssists : Jumlah assist kill (tim biru)\n",
    "9.\tblueEliteMonsters : Jumlah monster elit yang dibunuh oleh tim biru (Dragons and Heralds)\n",
    "10.\tblueDragons : Jumlah naga yang dibunuh oleh tim biru\n",
    "11.\tblueHeralds :  Jumlah tentara yang dibunuh oleh tim biru\n",
    "12.\tblueTowersDestroyed : Jumlah bangunan yang dihancurkan oleh tim biru (menara...)\n",
    "13.\tblueTotalGold : Tim biru total emas\n",
    "14.\tblueAvgLevel : Tingkat juara rata-rata tim biru\n",
    "15.\tblueTotalExperience : Pengalaman total tim biru\n",
    "16.\tblueTotalMinionsKilled : Total minion tim biru terbunuh (CS)\n",
    "17.\tblueTotalJungleMinionsKilled : Total monster hutan tim biru terbunuh\n",
    "18.\tblueGoldDiff : Perbedaan emas tim biru dibandingkan dengan tim musuh\n",
    "19.\tblueExperienceDiff : Tim biru mengalami perbedaan dibandingkan dengan tim musuh\n",
    "20.\tblueCSPerMin : CS tim biru (antek) per menit\n",
    "21.\tblueGoldPerMin : Emas tim biru per menit\n",
    "22.\tredWardsPlaced : Jumlah totem penangkal yang ditempatkan oleh tim merah di peta\n",
    "23.\tredWardsDestroyed : Jumlah totem penangkal musuh yang telah dihancurkan oleh tim merah\n",
    "24.\tredFirstBlood : Pembunuhan pertama dari permainan. 1 jika tim merah melakukan pembunuhan pertama, 0 sebaliknya\n",
    "25.\tredKills : Jumlah musuh yang dibunuh oleh tim merah\n",
    "26.\tredDeaths : Jumlah kematian (tim merah)\n",
    "27.\tredAssists: Jumlah assist kill (tim merah)\n",
    "28.\tredEliteMonsters : Jumlah monster elit yang dibunuh oleh tim merah (Dragons and Heralds)\n",
    "29.\tredDragons : Jumlah naga yang dibunuh oleh tim merah\n",
    "30.\tredHeralds: Jumlah bentara yang dibunuh oleh tim merah\n",
    "31.\tredTowersDestroyed : Jumlah bangunan yang dihancurkan oleh tim merah (menara)\n",
    "32.\tredTotalGold: Tim merah total emas\n",
    "33.\tredAvgLevel: Tingkat juara rata-rata tim merah\n",
    "34.\tredTotalExperience: Pengalaman total tim merah\n",
    "35.\tredTotalMinionsKilled : Total minion tim merah tewas (CS)\n",
    "36.\tredTotalJungleMinionsKilled : Total monster hutan tim merah terbunuh\n",
    "37.\tredGoldDiff : Perbedaan emas tim merah dibandingkan dengan tim musuh\n",
    "38.\tredExperienceDiff : Tim merah mengalami perbedaan dibandingkan dengan tim musuh\n",
    "39.\tredCSPerMin : CS tim merah (antek) per menit\n",
    "40.\tredGoldPerMin : Emas tim merah per menit"
   ]
  },
  {
   "cell_type": "markdown",
   "metadata": {},
   "source": [
    "## 1. Importing libraries"
   ]
  },
  {
   "cell_type": "code",
   "execution_count": 1,
   "metadata": {},
   "outputs": [],
   "source": [
    "import pandas as pd\n",
    "import numpy as np\n",
    "import matplotlib.pyplot as plt\n",
    "import seaborn as sns"
   ]
  },
  {
   "cell_type": "code",
   "execution_count": 2,
   "metadata": {},
   "outputs": [],
   "source": [
    "# Import Data\n",
    "df = pd.read_csv('high_diamond_ranked_10min.csv')"
   ]
  },
  {
   "cell_type": "code",
   "execution_count": 3,
   "metadata": {},
   "outputs": [
    {
     "data": {
      "text/plain": [
       "(9879, 40)"
      ]
     },
     "execution_count": 3,
     "metadata": {},
     "output_type": "execute_result"
    }
   ],
   "source": [
    "# Checking the shape of the data\n",
    "df.shape"
   ]
  },
  {
   "cell_type": "markdown",
   "metadata": {},
   "source": [
    "## 2. Basic EDA & Data Preprocessing"
   ]
  },
  {
   "cell_type": "code",
   "execution_count": 4,
   "metadata": {},
   "outputs": [
    {
     "data": {
      "text/plain": [
       "gameId                          0\n",
       "blueWins                        0\n",
       "blueWardsPlaced                 0\n",
       "blueWardsDestroyed              0\n",
       "blueFirstBlood                  0\n",
       "blueKills                       0\n",
       "blueDeaths                      0\n",
       "blueAssists                     0\n",
       "blueEliteMonsters               0\n",
       "blueDragons                     0\n",
       "blueHeralds                     0\n",
       "blueTowersDestroyed             0\n",
       "blueTotalGold                   0\n",
       "blueAvgLevel                    0\n",
       "blueTotalExperience             0\n",
       "blueTotalMinionsKilled          0\n",
       "blueTotalJungleMinionsKilled    0\n",
       "blueGoldDiff                    0\n",
       "blueExperienceDiff              0\n",
       "blueCSPerMin                    0\n",
       "blueGoldPerMin                  0\n",
       "redWardsPlaced                  0\n",
       "redWardsDestroyed               0\n",
       "redFirstBlood                   0\n",
       "redKills                        0\n",
       "redDeaths                       0\n",
       "redAssists                      0\n",
       "redEliteMonsters                0\n",
       "redDragons                      0\n",
       "redHeralds                      0\n",
       "redTowersDestroyed              0\n",
       "redTotalGold                    0\n",
       "redAvgLevel                     0\n",
       "redTotalExperience              0\n",
       "redTotalMinionsKilled           0\n",
       "redTotalJungleMinionsKilled     0\n",
       "redGoldDiff                     0\n",
       "redExperienceDiff               0\n",
       "redCSPerMin                     0\n",
       "redGoldPerMin                   0\n",
       "dtype: int64"
      ]
     },
     "execution_count": 4,
     "metadata": {},
     "output_type": "execute_result"
    }
   ],
   "source": [
    "# Checking null values\n",
    "df.isnull().sum()"
   ]
  },
  {
   "cell_type": "code",
   "execution_count": 5,
   "metadata": {},
   "outputs": [
    {
     "data": {
      "text/plain": [
       "gameId                            int64\n",
       "blueWins                          int64\n",
       "blueWardsPlaced                   int64\n",
       "blueWardsDestroyed                int64\n",
       "blueFirstBlood                    int64\n",
       "blueKills                         int64\n",
       "blueDeaths                        int64\n",
       "blueAssists                       int64\n",
       "blueEliteMonsters                 int64\n",
       "blueDragons                       int64\n",
       "blueHeralds                       int64\n",
       "blueTowersDestroyed               int64\n",
       "blueTotalGold                     int64\n",
       "blueAvgLevel                    float64\n",
       "blueTotalExperience               int64\n",
       "blueTotalMinionsKilled            int64\n",
       "blueTotalJungleMinionsKilled      int64\n",
       "blueGoldDiff                      int64\n",
       "blueExperienceDiff                int64\n",
       "blueCSPerMin                    float64\n",
       "blueGoldPerMin                  float64\n",
       "redWardsPlaced                    int64\n",
       "redWardsDestroyed                 int64\n",
       "redFirstBlood                     int64\n",
       "redKills                          int64\n",
       "redDeaths                         int64\n",
       "redAssists                        int64\n",
       "redEliteMonsters                  int64\n",
       "redDragons                        int64\n",
       "redHeralds                        int64\n",
       "redTowersDestroyed                int64\n",
       "redTotalGold                      int64\n",
       "redAvgLevel                     float64\n",
       "redTotalExperience                int64\n",
       "redTotalMinionsKilled             int64\n",
       "redTotalJungleMinionsKilled       int64\n",
       "redGoldDiff                       int64\n",
       "redExperienceDiff                 int64\n",
       "redCSPerMin                     float64\n",
       "redGoldPerMin                   float64\n",
       "dtype: object"
      ]
     },
     "execution_count": 5,
     "metadata": {},
     "output_type": "execute_result"
    }
   ],
   "source": [
    "# checking data types of the columns\n",
    "df.dtypes"
   ]
  },
  {
   "cell_type": "code",
   "execution_count": 6,
   "metadata": {},
   "outputs": [
    {
     "data": {
      "text/html": [
       "<div>\n",
       "<style scoped>\n",
       "    .dataframe tbody tr th:only-of-type {\n",
       "        vertical-align: middle;\n",
       "    }\n",
       "\n",
       "    .dataframe tbody tr th {\n",
       "        vertical-align: top;\n",
       "    }\n",
       "\n",
       "    .dataframe thead th {\n",
       "        text-align: right;\n",
       "    }\n",
       "</style>\n",
       "<table border=\"1\" class=\"dataframe\">\n",
       "  <thead>\n",
       "    <tr style=\"text-align: right;\">\n",
       "      <th></th>\n",
       "      <th>Desc</th>\n",
       "      <th>Var</th>\n",
       "      <th>Value</th>\n",
       "      <th>Perc</th>\n",
       "    </tr>\n",
       "  </thead>\n",
       "  <tbody>\n",
       "    <tr>\n",
       "      <th>0</th>\n",
       "      <td>Quasi Constant</td>\n",
       "      <td>redTowersDestroyed</td>\n",
       "      <td>0.000000e+00</td>\n",
       "      <td>95.991497</td>\n",
       "    </tr>\n",
       "    <tr>\n",
       "      <th>1</th>\n",
       "      <td>Quasi Constant</td>\n",
       "      <td>blueTowersDestroyed</td>\n",
       "      <td>0.000000e+00</td>\n",
       "      <td>95.303168</td>\n",
       "    </tr>\n",
       "    <tr>\n",
       "      <th>2</th>\n",
       "      <td>Quasi Constant</td>\n",
       "      <td>redHeralds</td>\n",
       "      <td>0.000000e+00</td>\n",
       "      <td>83.996356</td>\n",
       "    </tr>\n",
       "    <tr>\n",
       "      <th>3</th>\n",
       "      <td>Quasi Constant</td>\n",
       "      <td>blueHeralds</td>\n",
       "      <td>0.000000e+00</td>\n",
       "      <td>81.202551</td>\n",
       "    </tr>\n",
       "    <tr>\n",
       "      <th>4</th>\n",
       "      <td>Quasi Constant</td>\n",
       "      <td>blueDragons</td>\n",
       "      <td>0.000000e+00</td>\n",
       "      <td>63.802004</td>\n",
       "    </tr>\n",
       "    <tr>\n",
       "      <th>5</th>\n",
       "      <td>Quasi Constant</td>\n",
       "      <td>redDragons</td>\n",
       "      <td>0.000000e+00</td>\n",
       "      <td>58.690151</td>\n",
       "    </tr>\n",
       "    <tr>\n",
       "      <th>6</th>\n",
       "      <td>Quasi Constant</td>\n",
       "      <td>blueEliteMonsters</td>\n",
       "      <td>0.000000e+00</td>\n",
       "      <td>52.191517</td>\n",
       "    </tr>\n",
       "    <tr>\n",
       "      <th>7</th>\n",
       "      <td>Quasi Constant</td>\n",
       "      <td>redFirstBlood</td>\n",
       "      <td>0.000000e+00</td>\n",
       "      <td>50.480818</td>\n",
       "    </tr>\n",
       "    <tr>\n",
       "      <th>8</th>\n",
       "      <td>Quasi Constant</td>\n",
       "      <td>blueFirstBlood</td>\n",
       "      <td>1.000000e+00</td>\n",
       "      <td>50.480818</td>\n",
       "    </tr>\n",
       "    <tr>\n",
       "      <th>9</th>\n",
       "      <td>Quasi Constant</td>\n",
       "      <td>blueWins</td>\n",
       "      <td>0.000000e+00</td>\n",
       "      <td>50.096164</td>\n",
       "    </tr>\n",
       "    <tr>\n",
       "      <th>10</th>\n",
       "      <td>Quasi Constant</td>\n",
       "      <td>redEliteMonsters</td>\n",
       "      <td>0.000000e+00</td>\n",
       "      <td>50.075919</td>\n",
       "    </tr>\n",
       "    <tr>\n",
       "      <th>11</th>\n",
       "      <td>Quasi Constant</td>\n",
       "      <td>redAvgLevel</td>\n",
       "      <td>7.000000e+00</td>\n",
       "      <td>27.047272</td>\n",
       "    </tr>\n",
       "    <tr>\n",
       "      <th>12</th>\n",
       "      <td>Quasi Constant</td>\n",
       "      <td>blueAvgLevel</td>\n",
       "      <td>7.000000e+00</td>\n",
       "      <td>26.429801</td>\n",
       "    </tr>\n",
       "    <tr>\n",
       "      <th>13</th>\n",
       "      <td>Quasi Constant</td>\n",
       "      <td>redWardsDestroyed</td>\n",
       "      <td>2.000000e+00</td>\n",
       "      <td>24.506529</td>\n",
       "    </tr>\n",
       "    <tr>\n",
       "      <th>14</th>\n",
       "      <td>Quasi Constant</td>\n",
       "      <td>blueWardsDestroyed</td>\n",
       "      <td>2.000000e+00</td>\n",
       "      <td>23.858690</td>\n",
       "    </tr>\n",
       "    <tr>\n",
       "      <th>15</th>\n",
       "      <td>Quasi Constant</td>\n",
       "      <td>blueDeaths</td>\n",
       "      <td>5.000000e+00</td>\n",
       "      <td>13.574248</td>\n",
       "    </tr>\n",
       "    <tr>\n",
       "      <th>16</th>\n",
       "      <td>Quasi Constant</td>\n",
       "      <td>redKills</td>\n",
       "      <td>5.000000e+00</td>\n",
       "      <td>13.574248</td>\n",
       "    </tr>\n",
       "    <tr>\n",
       "      <th>17</th>\n",
       "      <td>Quasi Constant</td>\n",
       "      <td>redDeaths</td>\n",
       "      <td>6.000000e+00</td>\n",
       "      <td>13.381921</td>\n",
       "    </tr>\n",
       "    <tr>\n",
       "      <th>18</th>\n",
       "      <td>Quasi Constant</td>\n",
       "      <td>blueKills</td>\n",
       "      <td>6.000000e+00</td>\n",
       "      <td>13.381921</td>\n",
       "    </tr>\n",
       "    <tr>\n",
       "      <th>19</th>\n",
       "      <td>Quasi Constant</td>\n",
       "      <td>blueWardsPlaced</td>\n",
       "      <td>1.600000e+01</td>\n",
       "      <td>12.703715</td>\n",
       "    </tr>\n",
       "    <tr>\n",
       "      <th>20</th>\n",
       "      <td>Quasi Constant</td>\n",
       "      <td>redWardsPlaced</td>\n",
       "      <td>1.500000e+01</td>\n",
       "      <td>12.268448</td>\n",
       "    </tr>\n",
       "    <tr>\n",
       "      <th>21</th>\n",
       "      <td>Quasi Constant</td>\n",
       "      <td>blueAssists</td>\n",
       "      <td>5.000000e+00</td>\n",
       "      <td>10.810811</td>\n",
       "    </tr>\n",
       "    <tr>\n",
       "      <th>22</th>\n",
       "      <td>Quasi Constant</td>\n",
       "      <td>redAssists</td>\n",
       "      <td>5.000000e+00</td>\n",
       "      <td>10.557749</td>\n",
       "    </tr>\n",
       "    <tr>\n",
       "      <th>23</th>\n",
       "      <td>Quasi Constant</td>\n",
       "      <td>redTotalJungleMinionsKilled</td>\n",
       "      <td>5.200000e+01</td>\n",
       "      <td>9.049499</td>\n",
       "    </tr>\n",
       "    <tr>\n",
       "      <th>24</th>\n",
       "      <td>Quasi Constant</td>\n",
       "      <td>blueTotalJungleMinionsKilled</td>\n",
       "      <td>4.800000e+01</td>\n",
       "      <td>8.259945</td>\n",
       "    </tr>\n",
       "    <tr>\n",
       "      <th>25</th>\n",
       "      <td>Quasi Constant</td>\n",
       "      <td>redTotalMinionsKilled</td>\n",
       "      <td>2.150000e+02</td>\n",
       "      <td>2.004251</td>\n",
       "    </tr>\n",
       "    <tr>\n",
       "      <th>26</th>\n",
       "      <td>Quasi Constant</td>\n",
       "      <td>redCSPerMin</td>\n",
       "      <td>2.150000e+01</td>\n",
       "      <td>2.004251</td>\n",
       "    </tr>\n",
       "    <tr>\n",
       "      <th>27</th>\n",
       "      <td>Quasi Constant</td>\n",
       "      <td>blueCSPerMin</td>\n",
       "      <td>2.180000e+01</td>\n",
       "      <td>1.953639</td>\n",
       "    </tr>\n",
       "    <tr>\n",
       "      <th>28</th>\n",
       "      <td>Quasi Constant</td>\n",
       "      <td>blueTotalMinionsKilled</td>\n",
       "      <td>2.180000e+02</td>\n",
       "      <td>1.953639</td>\n",
       "    </tr>\n",
       "    <tr>\n",
       "      <th>29</th>\n",
       "      <td>Quasi Constant</td>\n",
       "      <td>blueTotalExperience</td>\n",
       "      <td>1.853000e+04</td>\n",
       "      <td>0.121470</td>\n",
       "    </tr>\n",
       "    <tr>\n",
       "      <th>30</th>\n",
       "      <td>Quasi Constant</td>\n",
       "      <td>redTotalExperience</td>\n",
       "      <td>1.784200e+04</td>\n",
       "      <td>0.101225</td>\n",
       "    </tr>\n",
       "    <tr>\n",
       "      <th>31</th>\n",
       "      <td>Quasi Constant</td>\n",
       "      <td>blueGoldPerMin</td>\n",
       "      <td>1.588500e+03</td>\n",
       "      <td>0.091102</td>\n",
       "    </tr>\n",
       "    <tr>\n",
       "      <th>32</th>\n",
       "      <td>Quasi Constant</td>\n",
       "      <td>redGoldPerMin</td>\n",
       "      <td>1.607400e+03</td>\n",
       "      <td>0.091102</td>\n",
       "    </tr>\n",
       "    <tr>\n",
       "      <th>33</th>\n",
       "      <td>Quasi Constant</td>\n",
       "      <td>redTotalGold</td>\n",
       "      <td>1.607400e+04</td>\n",
       "      <td>0.091102</td>\n",
       "    </tr>\n",
       "    <tr>\n",
       "      <th>34</th>\n",
       "      <td>Quasi Constant</td>\n",
       "      <td>blueTotalGold</td>\n",
       "      <td>1.588500e+04</td>\n",
       "      <td>0.091102</td>\n",
       "    </tr>\n",
       "    <tr>\n",
       "      <th>35</th>\n",
       "      <td>Quasi Constant</td>\n",
       "      <td>blueExperienceDiff</td>\n",
       "      <td>6.300000e+01</td>\n",
       "      <td>0.080980</td>\n",
       "    </tr>\n",
       "    <tr>\n",
       "      <th>36</th>\n",
       "      <td>Quasi Constant</td>\n",
       "      <td>blueGoldDiff</td>\n",
       "      <td>4.280000e+02</td>\n",
       "      <td>0.080980</td>\n",
       "    </tr>\n",
       "    <tr>\n",
       "      <th>37</th>\n",
       "      <td>Quasi Constant</td>\n",
       "      <td>redGoldDiff</td>\n",
       "      <td>-4.280000e+02</td>\n",
       "      <td>0.080980</td>\n",
       "    </tr>\n",
       "    <tr>\n",
       "      <th>38</th>\n",
       "      <td>Quasi Constant</td>\n",
       "      <td>redExperienceDiff</td>\n",
       "      <td>-6.300000e+01</td>\n",
       "      <td>0.080980</td>\n",
       "    </tr>\n",
       "    <tr>\n",
       "      <th>39</th>\n",
       "      <td>Quasi Constant</td>\n",
       "      <td>gameId</td>\n",
       "      <td>4.519158e+09</td>\n",
       "      <td>0.010122</td>\n",
       "    </tr>\n",
       "  </tbody>\n",
       "</table>\n",
       "</div>"
      ],
      "text/plain": [
       "              Desc                           Var         Value       Perc\n",
       "0   Quasi Constant            redTowersDestroyed  0.000000e+00  95.991497\n",
       "1   Quasi Constant           blueTowersDestroyed  0.000000e+00  95.303168\n",
       "2   Quasi Constant                    redHeralds  0.000000e+00  83.996356\n",
       "3   Quasi Constant                   blueHeralds  0.000000e+00  81.202551\n",
       "4   Quasi Constant                   blueDragons  0.000000e+00  63.802004\n",
       "5   Quasi Constant                    redDragons  0.000000e+00  58.690151\n",
       "6   Quasi Constant             blueEliteMonsters  0.000000e+00  52.191517\n",
       "7   Quasi Constant                 redFirstBlood  0.000000e+00  50.480818\n",
       "8   Quasi Constant                blueFirstBlood  1.000000e+00  50.480818\n",
       "9   Quasi Constant                      blueWins  0.000000e+00  50.096164\n",
       "10  Quasi Constant              redEliteMonsters  0.000000e+00  50.075919\n",
       "11  Quasi Constant                   redAvgLevel  7.000000e+00  27.047272\n",
       "12  Quasi Constant                  blueAvgLevel  7.000000e+00  26.429801\n",
       "13  Quasi Constant             redWardsDestroyed  2.000000e+00  24.506529\n",
       "14  Quasi Constant            blueWardsDestroyed  2.000000e+00  23.858690\n",
       "15  Quasi Constant                    blueDeaths  5.000000e+00  13.574248\n",
       "16  Quasi Constant                      redKills  5.000000e+00  13.574248\n",
       "17  Quasi Constant                     redDeaths  6.000000e+00  13.381921\n",
       "18  Quasi Constant                     blueKills  6.000000e+00  13.381921\n",
       "19  Quasi Constant               blueWardsPlaced  1.600000e+01  12.703715\n",
       "20  Quasi Constant                redWardsPlaced  1.500000e+01  12.268448\n",
       "21  Quasi Constant                   blueAssists  5.000000e+00  10.810811\n",
       "22  Quasi Constant                    redAssists  5.000000e+00  10.557749\n",
       "23  Quasi Constant   redTotalJungleMinionsKilled  5.200000e+01   9.049499\n",
       "24  Quasi Constant  blueTotalJungleMinionsKilled  4.800000e+01   8.259945\n",
       "25  Quasi Constant         redTotalMinionsKilled  2.150000e+02   2.004251\n",
       "26  Quasi Constant                   redCSPerMin  2.150000e+01   2.004251\n",
       "27  Quasi Constant                  blueCSPerMin  2.180000e+01   1.953639\n",
       "28  Quasi Constant        blueTotalMinionsKilled  2.180000e+02   1.953639\n",
       "29  Quasi Constant           blueTotalExperience  1.853000e+04   0.121470\n",
       "30  Quasi Constant            redTotalExperience  1.784200e+04   0.101225\n",
       "31  Quasi Constant                blueGoldPerMin  1.588500e+03   0.091102\n",
       "32  Quasi Constant                 redGoldPerMin  1.607400e+03   0.091102\n",
       "33  Quasi Constant                  redTotalGold  1.607400e+04   0.091102\n",
       "34  Quasi Constant                 blueTotalGold  1.588500e+04   0.091102\n",
       "35  Quasi Constant            blueExperienceDiff  6.300000e+01   0.080980\n",
       "36  Quasi Constant                  blueGoldDiff  4.280000e+02   0.080980\n",
       "37  Quasi Constant                   redGoldDiff -4.280000e+02   0.080980\n",
       "38  Quasi Constant             redExperienceDiff -6.300000e+01   0.080980\n",
       "39  Quasi Constant                        gameId  4.519158e+09   0.010122"
      ]
     },
     "execution_count": 6,
     "metadata": {},
     "output_type": "execute_result"
    }
   ],
   "source": [
    "#checking for quasi constants\n",
    "from fast_ml.feature_selection import get_constant_features\n",
    "\n",
    "constant_features = get_constant_features(df, threshold=0.0000001, dropna=False)\n",
    "constant_features"
   ]
  },
  {
   "cell_type": "code",
   "execution_count": 7,
   "metadata": {},
   "outputs": [
    {
     "name": "stdout",
     "output_type": "stream",
     "text": [
      "Kolom-kolom quasi constant:\n",
      "blueWins                        0.000202\n",
      "blueWardsPlaced                 0.014880\n",
      "blueWardsDestroyed              0.002733\n",
      "blueFirstBlood                  0.000202\n",
      "blueKills                       0.002126\n",
      "blueDeaths                      0.002126\n",
      "blueAssists                     0.003037\n",
      "blueEliteMonsters               0.000304\n",
      "blueDragons                     0.000202\n",
      "blueHeralds                     0.000202\n",
      "blueTowersDestroyed             0.000506\n",
      "blueTotalGold                   0.479704\n",
      "blueAvgLevel                    0.001721\n",
      "blueTotalExperience             0.419374\n",
      "blueTotalMinionsKilled          0.014981\n",
      "blueTotalJungleMinionsKilled    0.007491\n",
      "blueGoldDiff                    0.612106\n",
      "blueExperienceDiff              0.542160\n",
      "blueCSPerMin                    0.014981\n",
      "blueGoldPerMin                  0.479704\n",
      "redWardsPlaced                  0.015285\n",
      "redWardsDestroyed               0.002531\n",
      "redFirstBlood                   0.000202\n",
      "redKills                        0.002126\n",
      "redDeaths                       0.002126\n",
      "redAssists                      0.002834\n",
      "redEliteMonsters                0.000304\n",
      "redDragons                      0.000202\n",
      "redHeralds                      0.000202\n",
      "redTowersDestroyed              0.000304\n",
      "redTotalGold                    0.478996\n",
      "redAvgLevel                     0.001822\n",
      "redTotalExperience              0.416338\n",
      "redTotalMinionsKilled           0.015487\n",
      "redTotalJungleMinionsKilled     0.007592\n",
      "redGoldDiff                     0.612106\n",
      "redExperienceDiff               0.542160\n",
      "redCSPerMin                     0.015487\n",
      "redGoldPerMin                   0.478996\n",
      "dtype: float64\n"
     ]
    }
   ],
   "source": [
    "# Ambang batas variabilitas yang dianggap quasi constant\n",
    "threshold = 0.9\n",
    "\n",
    "# Menghitung variabilitas setiap kolom (proporsi nilai unik)\n",
    "variance_ratios = df.nunique() / len(df)\n",
    "\n",
    "# Identifikasi kolom-kolom quasi constant\n",
    "quasi_constants = variance_ratios[variance_ratios <= threshold]\n",
    "\n",
    "print(\"Kolom-kolom quasi constant:\")\n",
    "print(quasi_constants)"
   ]
  },
  {
   "cell_type": "code",
   "execution_count": 8,
   "metadata": {},
   "outputs": [
    {
     "data": {
      "image/png": "[encoded data removed]",
      "text/plain": [
       "<Figure size 1800x1080 with 42 Axes>"
      ]
     },
     "metadata": {
      "needs_background": "light"
     },
     "output_type": "display_data"
    }
   ],
   "source": [
    "data = df.iloc[:,1:]\n",
    "\n",
    "rows = 7\n",
    "cols = 6\n",
    "\n",
    "fig, axes = plt.subplots(rows, cols, figsize=(25, 15))\n",
    "\n",
    "# Melakukan flatten pada axes supaya mempermudah iterasi\n",
    "axes = axes.flatten()\n",
    "\n",
    "for i, ax in enumerate(axes):\n",
    "    if i < len(data.columns):\n",
    "        sns.histplot(data=data, x=data.columns[i], ax=ax)\n",
    "        ax.set_title(data.columns[i])\n",
    "    else:\n",
    "        ax.set_visible(False)\n",
    "\n",
    "plt.tight_layout()\n",
    "plt.show()"
   ]
  },
  {
   "cell_type": "code",
   "execution_count": 9,
   "metadata": {},
   "outputs": [
    {
     "data": {
      "text/plain": [
       "0    4949\n",
       "1    4930\n",
       "Name: blueWins, dtype: int64"
      ]
     },
     "execution_count": 9,
     "metadata": {},
     "output_type": "execute_result"
    }
   ],
   "source": [
    "# Value counts data blueWins\n",
    "df['blueWins'].value_counts()"
   ]
  },
  {
   "attachments": {},
   "cell_type": "markdown",
   "metadata": {},
   "source": [
    "# Buatlah catatan dari hasil data preprocessing"
   ]
  },
  {
   "cell_type": "markdown",
   "metadata": {},
   "source": [
    "#### Scaling"
   ]
  },
  {
   "cell_type": "code",
   "execution_count": 10,
   "metadata": {},
   "outputs": [],
   "source": [
    "from sklearn.preprocessing import MinMaxScaler\n",
    "scaler = MinMaxScaler()\n",
    "col = df.iloc[:,1:].columns\n",
    "df[col] = scaler.fit_transform(df[col])"
   ]
  },
  {
   "cell_type": "markdown",
   "metadata": {},
   "source": [
    "## 3. Data Splitting into train and test set"
   ]
  },
  {
   "cell_type": "code",
   "execution_count": 11,
   "metadata": {},
   "outputs": [],
   "source": [
    "from sklearn.model_selection import train_test_split\n",
    "\n",
    "X = df.drop('blueWins', axis=1)\n",
    "y = df['blueWins']\n",
    "\n",
    "X_train, X_test, y_train, y_test = train_test_split(X, y, test_size = 0.25)"
   ]
  },
  {
   "attachments": {},
   "cell_type": "markdown",
   "metadata": {},
   "source": [
    "## 4. Feature Selection and Compare Each Model"
   ]
  },
  {
   "attachments": {},
   "cell_type": "markdown",
   "metadata": {},
   "source": [
    "Method 1: Feature Selection using different methods and checking with different models"
   ]
  },
  {
   "attachments": {},
   "cell_type": "markdown",
   "metadata": {},
   "source": [
    "Feature Selection using Feature importance of Random Forest Classifier"
   ]
  },
  {
   "cell_type": "code",
   "execution_count": 12,
   "metadata": {},
   "outputs": [],
   "source": [
    "from sklearn.ensemble import RandomForestClassifier\n",
    "\n",
    "clf = RandomForestClassifier(n_estimators=100, random_state=42)\n",
    "clf.fit(X, y)\n",
    "\n",
    "# Mendapatkan nilai feature importance dari model\n",
    "feature_importance = clf.feature_importances_"
   ]
  },
  {
   "cell_type": "code",
   "execution_count": 13,
   "metadata": {},
   "outputs": [
    {
     "data": {
      "text/html": [
       "<div>\n",
       "<style scoped>\n",
       "    .dataframe tbody tr th:only-of-type {\n",
       "        vertical-align: middle;\n",
       "    }\n",
       "\n",
       "    .dataframe tbody tr th {\n",
       "        vertical-align: top;\n",
       "    }\n",
       "\n",
       "    .dataframe thead th {\n",
       "        text-align: right;\n",
       "    }\n",
       "</style>\n",
       "<table border=\"1\" class=\"dataframe\">\n",
       "  <thead>\n",
       "    <tr style=\"text-align: right;\">\n",
       "      <th></th>\n",
       "      <th>Feature</th>\n",
       "      <th>Importance</th>\n",
       "    </tr>\n",
       "  </thead>\n",
       "  <tbody>\n",
       "    <tr>\n",
       "      <th>0</th>\n",
       "      <td>redGoldDiff</td>\n",
       "      <td>0.085744</td>\n",
       "    </tr>\n",
       "    <tr>\n",
       "      <th>1</th>\n",
       "      <td>blueGoldDiff</td>\n",
       "      <td>0.083517</td>\n",
       "    </tr>\n",
       "    <tr>\n",
       "      <th>2</th>\n",
       "      <td>blueExperienceDiff</td>\n",
       "      <td>0.070665</td>\n",
       "    </tr>\n",
       "    <tr>\n",
       "      <th>3</th>\n",
       "      <td>redExperienceDiff</td>\n",
       "      <td>0.058352</td>\n",
       "    </tr>\n",
       "    <tr>\n",
       "      <th>4</th>\n",
       "      <td>blueTotalGold</td>\n",
       "      <td>0.052604</td>\n",
       "    </tr>\n",
       "    <tr>\n",
       "      <th>5</th>\n",
       "      <td>redTotalGold</td>\n",
       "      <td>0.044104</td>\n",
       "    </tr>\n",
       "    <tr>\n",
       "      <th>6</th>\n",
       "      <td>redGoldPerMin</td>\n",
       "      <td>0.043254</td>\n",
       "    </tr>\n",
       "    <tr>\n",
       "      <th>7</th>\n",
       "      <td>blueGoldPerMin</td>\n",
       "      <td>0.040526</td>\n",
       "    </tr>\n",
       "    <tr>\n",
       "      <th>8</th>\n",
       "      <td>redTotalExperience</td>\n",
       "      <td>0.037422</td>\n",
       "    </tr>\n",
       "    <tr>\n",
       "      <th>9</th>\n",
       "      <td>blueTotalExperience</td>\n",
       "      <td>0.035514</td>\n",
       "    </tr>\n",
       "    <tr>\n",
       "      <th>10</th>\n",
       "      <td>gameId</td>\n",
       "      <td>0.033869</td>\n",
       "    </tr>\n",
       "    <tr>\n",
       "      <th>11</th>\n",
       "      <td>redTotalMinionsKilled</td>\n",
       "      <td>0.027618</td>\n",
       "    </tr>\n",
       "    <tr>\n",
       "      <th>12</th>\n",
       "      <td>blueTotalJungleMinionsKilled</td>\n",
       "      <td>0.026901</td>\n",
       "    </tr>\n",
       "    <tr>\n",
       "      <th>13</th>\n",
       "      <td>redCSPerMin</td>\n",
       "      <td>0.026376</td>\n",
       "    </tr>\n",
       "    <tr>\n",
       "      <th>14</th>\n",
       "      <td>blueTotalMinionsKilled</td>\n",
       "      <td>0.026211</td>\n",
       "    </tr>\n",
       "    <tr>\n",
       "      <th>15</th>\n",
       "      <td>blueCSPerMin</td>\n",
       "      <td>0.026050</td>\n",
       "    </tr>\n",
       "    <tr>\n",
       "      <th>16</th>\n",
       "      <td>blueWardsPlaced</td>\n",
       "      <td>0.025410</td>\n",
       "    </tr>\n",
       "    <tr>\n",
       "      <th>17</th>\n",
       "      <td>redTotalJungleMinionsKilled</td>\n",
       "      <td>0.024902</td>\n",
       "    </tr>\n",
       "    <tr>\n",
       "      <th>18</th>\n",
       "      <td>redWardsPlaced</td>\n",
       "      <td>0.023320</td>\n",
       "    </tr>\n",
       "    <tr>\n",
       "      <th>19</th>\n",
       "      <td>redAssists</td>\n",
       "      <td>0.019827</td>\n",
       "    </tr>\n",
       "    <tr>\n",
       "      <th>20</th>\n",
       "      <td>blueAssists</td>\n",
       "      <td>0.018614</td>\n",
       "    </tr>\n",
       "    <tr>\n",
       "      <th>21</th>\n",
       "      <td>redWardsDestroyed</td>\n",
       "      <td>0.017322</td>\n",
       "    </tr>\n",
       "    <tr>\n",
       "      <th>22</th>\n",
       "      <td>blueWardsDestroyed</td>\n",
       "      <td>0.016614</td>\n",
       "    </tr>\n",
       "    <tr>\n",
       "      <th>23</th>\n",
       "      <td>blueKills</td>\n",
       "      <td>0.016302</td>\n",
       "    </tr>\n",
       "    <tr>\n",
       "      <th>24</th>\n",
       "      <td>blueDeaths</td>\n",
       "      <td>0.015629</td>\n",
       "    </tr>\n",
       "    <tr>\n",
       "      <th>25</th>\n",
       "      <td>redKills</td>\n",
       "      <td>0.015348</td>\n",
       "    </tr>\n",
       "    <tr>\n",
       "      <th>26</th>\n",
       "      <td>redAvgLevel</td>\n",
       "      <td>0.015156</td>\n",
       "    </tr>\n",
       "    <tr>\n",
       "      <th>27</th>\n",
       "      <td>redDeaths</td>\n",
       "      <td>0.014133</td>\n",
       "    </tr>\n",
       "    <tr>\n",
       "      <th>28</th>\n",
       "      <td>blueAvgLevel</td>\n",
       "      <td>0.013737</td>\n",
       "    </tr>\n",
       "    <tr>\n",
       "      <th>29</th>\n",
       "      <td>redEliteMonsters</td>\n",
       "      <td>0.007467</td>\n",
       "    </tr>\n",
       "  </tbody>\n",
       "</table>\n",
       "</div>"
      ],
      "text/plain": [
       "                         Feature  Importance\n",
       "0                    redGoldDiff    0.085744\n",
       "1                   blueGoldDiff    0.083517\n",
       "2             blueExperienceDiff    0.070665\n",
       "3              redExperienceDiff    0.058352\n",
       "4                  blueTotalGold    0.052604\n",
       "5                   redTotalGold    0.044104\n",
       "6                  redGoldPerMin    0.043254\n",
       "7                 blueGoldPerMin    0.040526\n",
       "8             redTotalExperience    0.037422\n",
       "9            blueTotalExperience    0.035514\n",
       "10                        gameId    0.033869\n",
       "11         redTotalMinionsKilled    0.027618\n",
       "12  blueTotalJungleMinionsKilled    0.026901\n",
       "13                   redCSPerMin    0.026376\n",
       "14        blueTotalMinionsKilled    0.026211\n",
       "15                  blueCSPerMin    0.026050\n",
       "16               blueWardsPlaced    0.025410\n",
       "17   redTotalJungleMinionsKilled    0.024902\n",
       "18                redWardsPlaced    0.023320\n",
       "19                    redAssists    0.019827\n",
       "20                   blueAssists    0.018614\n",
       "21             redWardsDestroyed    0.017322\n",
       "22            blueWardsDestroyed    0.016614\n",
       "23                     blueKills    0.016302\n",
       "24                    blueDeaths    0.015629\n",
       "25                      redKills    0.015348\n",
       "26                   redAvgLevel    0.015156\n",
       "27                     redDeaths    0.014133\n",
       "28                  blueAvgLevel    0.013737\n",
       "29              redEliteMonsters    0.007467"
      ]
     },
     "execution_count": 13,
     "metadata": {},
     "output_type": "execute_result"
    }
   ],
   "source": [
    "feature_importance_df = pd.DataFrame({'Feature': X.columns, 'Importance': feature_importance}).sort_values(by='Importance', ascending=False).reset_index().drop('index', axis=1)\n",
    "feature_importance_df.head(30)"
   ]
  },
  {
   "cell_type": "code",
   "execution_count": 14,
   "metadata": {},
   "outputs": [
    {
     "data": {
      "image/png": "[encoded data removed]",
      "text/plain": [
       "<Figure size 2160x576 with 1 Axes>"
      ]
     },
     "metadata": {
      "needs_background": "light"
     },
     "output_type": "display_data"
    }
   ],
   "source": [
    "# Urutkan indeks berdasarkan nilai feature_importance dari yang terbesar\n",
    "sorted_indices = np.argsort(feature_importance)[::-1]\n",
    "sorted_feature_importance = np.array(feature_importance)[sorted_indices]\n",
    "sorted_column_names = np.array(X.columns)[sorted_indices]\n",
    "\n",
    "plt.figure(figsize=(30, 8))\n",
    "plt.title(\"Feature Importance\", fontsize=14)\n",
    "bars = plt.bar(range(X.shape[1]), sorted_feature_importance)\n",
    "plt.xticks(range(X.shape[1]), sorted_column_names, rotation=90, fontsize=14)\n",
    "plt.yticks(fontsize=14)\n",
    "plt.tight_layout()\n",
    "\n",
    "# Tambahkan nilai feature_importance di atas setiap bar\n",
    "for bar, importance in zip(bars, sorted_feature_importance):\n",
    "    plt.text(bar.get_x() + bar.get_width() / 2, bar.get_height(), f'{importance:.3f}', \n",
    "             ha='center', va='bottom', fontsize=12)\n",
    "\n",
    "plt.show()"
   ]
  },
  {
   "cell_type": "code",
   "execution_count": 15,
   "metadata": {},
   "outputs": [],
   "source": [
    "filtered_X = [\n",
    "    'blueGoldDiff', 'redGoldDiff',\n",
    "    'blueExperienceDiff', 'redExperienceDiff',\n",
    "    'blueTotalGold', 'redTotalGold',\n",
    "    'blueTotalExperience', 'redTotalExperience',\n",
    "    'blueGoldPerMin', 'redGoldPerMin',\n",
    "    'blueKills', 'redKills',\n",
    "    'blueDeaths', 'redDeaths'\n",
    "]"
   ]
  },
  {
   "cell_type": "code",
   "execution_count": 16,
   "metadata": {},
   "outputs": [
    {
     "data": {
      "text/html": [
       "<div>\n",
       "<style scoped>\n",
       "    .dataframe tbody tr th:only-of-type {\n",
       "        vertical-align: middle;\n",
       "    }\n",
       "\n",
       "    .dataframe tbody tr th {\n",
       "        vertical-align: top;\n",
       "    }\n",
       "\n",
       "    .dataframe thead th {\n",
       "        text-align: right;\n",
       "    }\n",
       "</style>\n",
       "<table border=\"1\" class=\"dataframe\">\n",
       "  <thead>\n",
       "    <tr style=\"text-align: right;\">\n",
       "      <th></th>\n",
       "      <th>Feature</th>\n",
       "      <th>Importance</th>\n",
       "    </tr>\n",
       "  </thead>\n",
       "  <tbody>\n",
       "    <tr>\n",
       "      <th>0</th>\n",
       "      <td>redGoldDiff</td>\n",
       "      <td>0.085744</td>\n",
       "    </tr>\n",
       "    <tr>\n",
       "      <th>1</th>\n",
       "      <td>blueGoldDiff</td>\n",
       "      <td>0.083517</td>\n",
       "    </tr>\n",
       "    <tr>\n",
       "      <th>2</th>\n",
       "      <td>blueExperienceDiff</td>\n",
       "      <td>0.070665</td>\n",
       "    </tr>\n",
       "    <tr>\n",
       "      <th>3</th>\n",
       "      <td>redExperienceDiff</td>\n",
       "      <td>0.058352</td>\n",
       "    </tr>\n",
       "    <tr>\n",
       "      <th>4</th>\n",
       "      <td>blueTotalGold</td>\n",
       "      <td>0.052604</td>\n",
       "    </tr>\n",
       "    <tr>\n",
       "      <th>5</th>\n",
       "      <td>redTotalGold</td>\n",
       "      <td>0.044104</td>\n",
       "    </tr>\n",
       "    <tr>\n",
       "      <th>6</th>\n",
       "      <td>redGoldPerMin</td>\n",
       "      <td>0.043254</td>\n",
       "    </tr>\n",
       "    <tr>\n",
       "      <th>7</th>\n",
       "      <td>blueGoldPerMin</td>\n",
       "      <td>0.040526</td>\n",
       "    </tr>\n",
       "    <tr>\n",
       "      <th>8</th>\n",
       "      <td>redTotalExperience</td>\n",
       "      <td>0.037422</td>\n",
       "    </tr>\n",
       "    <tr>\n",
       "      <th>9</th>\n",
       "      <td>blueTotalExperience</td>\n",
       "      <td>0.035514</td>\n",
       "    </tr>\n",
       "    <tr>\n",
       "      <th>23</th>\n",
       "      <td>blueKills</td>\n",
       "      <td>0.016302</td>\n",
       "    </tr>\n",
       "    <tr>\n",
       "      <th>24</th>\n",
       "      <td>blueDeaths</td>\n",
       "      <td>0.015629</td>\n",
       "    </tr>\n",
       "    <tr>\n",
       "      <th>25</th>\n",
       "      <td>redKills</td>\n",
       "      <td>0.015348</td>\n",
       "    </tr>\n",
       "    <tr>\n",
       "      <th>27</th>\n",
       "      <td>redDeaths</td>\n",
       "      <td>0.014133</td>\n",
       "    </tr>\n",
       "  </tbody>\n",
       "</table>\n",
       "</div>"
      ],
      "text/plain": [
       "                Feature  Importance\n",
       "0           redGoldDiff    0.085744\n",
       "1          blueGoldDiff    0.083517\n",
       "2    blueExperienceDiff    0.070665\n",
       "3     redExperienceDiff    0.058352\n",
       "4         blueTotalGold    0.052604\n",
       "5          redTotalGold    0.044104\n",
       "6         redGoldPerMin    0.043254\n",
       "7        blueGoldPerMin    0.040526\n",
       "8    redTotalExperience    0.037422\n",
       "9   blueTotalExperience    0.035514\n",
       "23            blueKills    0.016302\n",
       "24           blueDeaths    0.015629\n",
       "25             redKills    0.015348\n",
       "27            redDeaths    0.014133"
      ]
     },
     "execution_count": 16,
     "metadata": {},
     "output_type": "execute_result"
    }
   ],
   "source": [
    "filtered_features = feature_importance_df.loc[feature_importance_df['Feature'].isin(filtered_X)]\n",
    "filtered_features"
   ]
  },
  {
   "cell_type": "code",
   "execution_count": 17,
   "metadata": {},
   "outputs": [
    {
     "data": {
      "text/html": [
       "<div>\n",
       "<style scoped>\n",
       "    .dataframe tbody tr th:only-of-type {\n",
       "        vertical-align: middle;\n",
       "    }\n",
       "\n",
       "    .dataframe tbody tr th {\n",
       "        vertical-align: top;\n",
       "    }\n",
       "\n",
       "    .dataframe thead th {\n",
       "        text-align: right;\n",
       "    }\n",
       "</style>\n",
       "<table border=\"1\" class=\"dataframe\">\n",
       "  <thead>\n",
       "    <tr style=\"text-align: right;\">\n",
       "      <th></th>\n",
       "      <th>blueGoldDiff</th>\n",
       "      <th>redGoldDiff</th>\n",
       "      <th>blueExperienceDiff</th>\n",
       "      <th>redExperienceDiff</th>\n",
       "      <th>blueTotalGold</th>\n",
       "      <th>redTotalGold</th>\n",
       "      <th>blueTotalExperience</th>\n",
       "      <th>redTotalExperience</th>\n",
       "      <th>blueGoldPerMin</th>\n",
       "      <th>redGoldPerMin</th>\n",
       "      <th>blueKills</th>\n",
       "      <th>redKills</th>\n",
       "      <th>blueDeaths</th>\n",
       "      <th>redDeaths</th>\n",
       "    </tr>\n",
       "  </thead>\n",
       "  <tbody>\n",
       "    <tr>\n",
       "      <th>0</th>\n",
       "      <td>0.514554</td>\n",
       "      <td>0.485446</td>\n",
       "      <td>0.527402</td>\n",
       "      <td>0.472598</td>\n",
       "      <td>0.499576</td>\n",
       "      <td>0.464844</td>\n",
       "      <td>0.572406</td>\n",
       "      <td>0.557608</td>\n",
       "      <td>0.499576</td>\n",
       "      <td>0.464844</td>\n",
       "      <td>0.409091</td>\n",
       "      <td>0.272727</td>\n",
       "      <td>0.272727</td>\n",
       "      <td>0.409091</td>\n",
       "    </tr>\n",
       "    <tr>\n",
       "      <th>1</th>\n",
       "      <td>0.355294</td>\n",
       "      <td>0.644706</td>\n",
       "      <td>0.461512</td>\n",
       "      <td>0.538488</td>\n",
       "      <td>0.306993</td>\n",
       "      <td>0.556250</td>\n",
       "      <td>0.508577</td>\n",
       "      <td>0.590732</td>\n",
       "      <td>0.306993</td>\n",
       "      <td>0.556250</td>\n",
       "      <td>0.227273</td>\n",
       "      <td>0.227273</td>\n",
       "      <td>0.227273</td>\n",
       "      <td>0.227273</td>\n",
       "    </tr>\n",
       "    <tr>\n",
       "      <th>2</th>\n",
       "      <td>0.433152</td>\n",
       "      <td>0.566848</td>\n",
       "      <td>0.469430</td>\n",
       "      <td>0.530570</td>\n",
       "      <td>0.415003</td>\n",
       "      <td>0.527170</td>\n",
       "      <td>0.504948</td>\n",
       "      <td>0.575144</td>\n",
       "      <td>0.415003</td>\n",
       "      <td>0.527170</td>\n",
       "      <td>0.318182</td>\n",
       "      <td>0.500000</td>\n",
       "      <td>0.500000</td>\n",
       "      <td>0.318182</td>\n",
       "    </tr>\n",
       "    <tr>\n",
       "      <th>3</th>\n",
       "      <td>0.426470</td>\n",
       "      <td>0.573530</td>\n",
       "      <td>0.527459</td>\n",
       "      <td>0.472541</td>\n",
       "      <td>0.341300</td>\n",
       "      <td>0.457118</td>\n",
       "      <td>0.647864</td>\n",
       "      <td>0.635039</td>\n",
       "      <td>0.341300</td>\n",
       "      <td>0.457118</td>\n",
       "      <td>0.181818</td>\n",
       "      <td>0.227273</td>\n",
       "      <td>0.227273</td>\n",
       "      <td>0.181818</td>\n",
       "    </tr>\n",
       "    <tr>\n",
       "      <th>4</th>\n",
       "      <td>0.440687</td>\n",
       "      <td>0.559313</td>\n",
       "      <td>0.540863</td>\n",
       "      <td>0.459137</td>\n",
       "      <td>0.437129</td>\n",
       "      <td>0.537500</td>\n",
       "      <td>0.696437</td>\n",
       "      <td>0.664859</td>\n",
       "      <td>0.437129</td>\n",
       "      <td>0.537500</td>\n",
       "      <td>0.272727</td>\n",
       "      <td>0.272727</td>\n",
       "      <td>0.272727</td>\n",
       "      <td>0.272727</td>\n",
       "    </tr>\n",
       "    <tr>\n",
       "      <th>...</th>\n",
       "      <td>...</td>\n",
       "      <td>...</td>\n",
       "      <td>...</td>\n",
       "      <td>...</td>\n",
       "      <td>...</td>\n",
       "      <td>...</td>\n",
       "      <td>...</td>\n",
       "      <td>...</td>\n",
       "      <td>...</td>\n",
       "      <td>...</td>\n",
       "      <td>...</td>\n",
       "      <td>...</td>\n",
       "      <td>...</td>\n",
       "      <td>...</td>\n",
       "    </tr>\n",
       "    <tr>\n",
       "      <th>9874</th>\n",
       "      <td>0.598690</td>\n",
       "      <td>0.401310</td>\n",
       "      <td>0.667496</td>\n",
       "      <td>0.332504</td>\n",
       "      <td>0.542364</td>\n",
       "      <td>0.350174</td>\n",
       "      <td>0.731404</td>\n",
       "      <td>0.511098</td>\n",
       "      <td>0.542364</td>\n",
       "      <td>0.350174</td>\n",
       "      <td>0.318182</td>\n",
       "      <td>0.181818</td>\n",
       "      <td>0.181818</td>\n",
       "      <td>0.318182</td>\n",
       "    </tr>\n",
       "    <tr>\n",
       "      <th>9875</th>\n",
       "      <td>0.520788</td>\n",
       "      <td>0.479212</td>\n",
       "      <td>0.578078</td>\n",
       "      <td>0.421922</td>\n",
       "      <td>0.424640</td>\n",
       "      <td>0.368403</td>\n",
       "      <td>0.755154</td>\n",
       "      <td>0.669434</td>\n",
       "      <td>0.424640</td>\n",
       "      <td>0.368403</td>\n",
       "      <td>0.272727</td>\n",
       "      <td>0.181818</td>\n",
       "      <td>0.181818</td>\n",
       "      <td>0.272727</td>\n",
       "    </tr>\n",
       "    <tr>\n",
       "      <th>9876</th>\n",
       "      <td>0.377360</td>\n",
       "      <td>0.622640</td>\n",
       "      <td>0.421696</td>\n",
       "      <td>0.578304</td>\n",
       "      <td>0.398813</td>\n",
       "      <td>0.616927</td>\n",
       "      <td>0.654297</td>\n",
       "      <td>0.800068</td>\n",
       "      <td>0.398813</td>\n",
       "      <td>0.616927</td>\n",
       "      <td>0.272727</td>\n",
       "      <td>0.318182</td>\n",
       "      <td>0.318182</td>\n",
       "      <td>0.272727</td>\n",
       "    </tr>\n",
       "    <tr>\n",
       "      <th>9877</th>\n",
       "      <td>0.448087</td>\n",
       "      <td>0.551913</td>\n",
       "      <td>0.466489</td>\n",
       "      <td>0.533511</td>\n",
       "      <td>0.287487</td>\n",
       "      <td>0.354688</td>\n",
       "      <td>0.588075</td>\n",
       "      <td>0.664944</td>\n",
       "      <td>0.287487</td>\n",
       "      <td>0.354688</td>\n",
       "      <td>0.090909</td>\n",
       "      <td>0.136364</td>\n",
       "      <td>0.136364</td>\n",
       "      <td>0.090909</td>\n",
       "    </tr>\n",
       "    <tr>\n",
       "      <th>9878</th>\n",
       "      <td>0.527291</td>\n",
       "      <td>0.472709</td>\n",
       "      <td>0.524574</td>\n",
       "      <td>0.475426</td>\n",
       "      <td>0.426798</td>\n",
       "      <td>0.358247</td>\n",
       "      <td>0.595662</td>\n",
       "      <td>0.585734</td>\n",
       "      <td>0.426798</td>\n",
       "      <td>0.358247</td>\n",
       "      <td>0.272727</td>\n",
       "      <td>0.272727</td>\n",
       "      <td>0.272727</td>\n",
       "      <td>0.272727</td>\n",
       "    </tr>\n",
       "  </tbody>\n",
       "</table>\n",
       "<p>9879 rows × 14 columns</p>\n",
       "</div>"
      ],
      "text/plain": [
       "      blueGoldDiff  redGoldDiff  blueExperienceDiff  redExperienceDiff  \\\n",
       "0         0.514554     0.485446            0.527402           0.472598   \n",
       "1         0.355294     0.644706            0.461512           0.538488   \n",
       "2         0.433152     0.566848            0.469430           0.530570   \n",
       "3         0.426470     0.573530            0.527459           0.472541   \n",
       "4         0.440687     0.559313            0.540863           0.459137   \n",
       "...            ...          ...                 ...                ...   \n",
       "9874      0.598690     0.401310            0.667496           0.332504   \n",
       "9875      0.520788     0.479212            0.578078           0.421922   \n",
       "9876      0.377360     0.622640            0.421696           0.578304   \n",
       "9877      0.448087     0.551913            0.466489           0.533511   \n",
       "9878      0.527291     0.472709            0.524574           0.475426   \n",
       "\n",
       "      blueTotalGold  redTotalGold  blueTotalExperience  redTotalExperience  \\\n",
       "0          0.499576      0.464844             0.572406            0.557608   \n",
       "1          0.306993      0.556250             0.508577            0.590732   \n",
       "2          0.415003      0.527170             0.504948            0.575144   \n",
       "3          0.341300      0.457118             0.647864            0.635039   \n",
       "4          0.437129      0.537500             0.696437            0.664859   \n",
       "...             ...           ...                  ...                 ...   \n",
       "9874       0.542364      0.350174             0.731404            0.511098   \n",
       "9875       0.424640      0.368403             0.755154            0.669434   \n",
       "9876       0.398813      0.616927             0.654297            0.800068   \n",
       "9877       0.287487      0.354688             0.588075            0.664944   \n",
       "9878       0.426798      0.358247             0.595662            0.585734   \n",
       "\n",
       "      blueGoldPerMin  redGoldPerMin  blueKills  redKills  blueDeaths  \\\n",
       "0           0.499576       0.464844   0.409091  0.272727    0.272727   \n",
       "1           0.306993       0.556250   0.227273  0.227273    0.227273   \n",
       "2           0.415003       0.527170   0.318182  0.500000    0.500000   \n",
       "3           0.341300       0.457118   0.181818  0.227273    0.227273   \n",
       "4           0.437129       0.537500   0.272727  0.272727    0.272727   \n",
       "...              ...            ...        ...       ...         ...   \n",
       "9874        0.542364       0.350174   0.318182  0.181818    0.181818   \n",
       "9875        0.424640       0.368403   0.272727  0.181818    0.181818   \n",
       "9876        0.398813       0.616927   0.272727  0.318182    0.318182   \n",
       "9877        0.287487       0.354688   0.090909  0.136364    0.136364   \n",
       "9878        0.426798       0.358247   0.272727  0.272727    0.272727   \n",
       "\n",
       "      redDeaths  \n",
       "0      0.409091  \n",
       "1      0.227273  \n",
       "2      0.318182  \n",
       "3      0.181818  \n",
       "4      0.272727  \n",
       "...         ...  \n",
       "9874   0.318182  \n",
       "9875   0.272727  \n",
       "9876   0.272727  \n",
       "9877   0.090909  \n",
       "9878   0.272727  \n",
       "\n",
       "[9879 rows x 14 columns]"
      ]
     },
     "execution_count": 17,
     "metadata": {},
     "output_type": "execute_result"
    }
   ],
   "source": [
    "df_filtered = df[filtered_X]\n",
    "df_filtered"
   ]
  },
  {
   "cell_type": "markdown",
   "metadata": {},
   "source": [
    "1. BlueGoldDiff dan RedGoldDiff -> (0.09 | 0.08)\n",
    "2. BlueExperienceDiff dan RedExperienceDiff --> (0.07 | 0.06)\n",
    "3. blueTotalGold dan redTotalGold -> (0.05 | 0.04)\n",
    "4. blueTotalExperience dan redTotalExperience -> (0.04 | 0.04)\n",
    "5. blueGoldPerMin dan redGoldPerMin -> (0.04 | 0.04)\n",
    "6. blueKills dan redKills -> (0.02 | 0.02)\n",
    "7. blueDeaths dan redDeaths -> (0.02 | 0.02)"
   ]
  },
  {
   "attachments": {},
   "cell_type": "markdown",
   "metadata": {},
   "source": [
    "Feature Selection using Recursive feature extraction (RFE)"
   ]
  },
  {
   "cell_type": "code",
   "execution_count": 18,
   "metadata": {},
   "outputs": [
    {
     "name": "stdout",
     "output_type": "stream",
     "text": [
      "Accuracy using RFE: 0.7170040485829959\n"
     ]
    }
   ],
   "source": [
    "from sklearn.model_selection import train_test_split\n",
    "from sklearn.ensemble import RandomForestClassifier\n",
    "from sklearn.feature_selection import RFE\n",
    "from sklearn.metrics import accuracy_score\n",
    "\n",
    "# Model Decision Tree untuk Recursive Feature Elimination (RFE)\n",
    "rfe_dt_model = RandomForestClassifier(random_state=42)\n",
    "rfe_selector = RFE(rfe_dt_model, n_features_to_select=14)\n",
    "X_train_rfe = rfe_selector.fit_transform(X_train, y_train)\n",
    "X_test_rfe = rfe_selector.transform(X_test)\n",
    "\n",
    "# Membuat model Decision Tree baru dengan fitur terpilih dari RFE\n",
    "selected_rfe_dt_model = RandomForestClassifier(random_state=42)\n",
    "selected_rfe_dt_model.fit(X_train_rfe, y_train)\n",
    "\n",
    "# Melakukan prediksi dan menghitung akurasi pada data uji (RFE)\n",
    "y_pred_rfe = selected_rfe_dt_model.predict(X_test_rfe)\n",
    "accuracy_rfe = accuracy_score(y_test, y_pred_rfe)\n",
    "print(\"Accuracy using RFE:\", accuracy_rfe)"
   ]
  },
  {
   "cell_type": "code",
   "execution_count": 19,
   "metadata": {},
   "outputs": [
    {
     "name": "stdout",
     "output_type": "stream",
     "text": [
      "Selected Features by RFE: Index(['gameId', 'blueTotalGold', 'blueTotalExperience',\n",
      "       'blueTotalJungleMinionsKilled', 'blueGoldDiff', 'blueExperienceDiff',\n",
      "       'blueCSPerMin', 'blueGoldPerMin', 'redTotalGold', 'redTotalExperience',\n",
      "       'redTotalMinionsKilled', 'redGoldDiff', 'redExperienceDiff',\n",
      "       'redGoldPerMin'],\n",
      "      dtype='object')\n"
     ]
    }
   ],
   "source": [
    "# Mendapatkan mask dari fitur yang terpilih oleh RFE\n",
    "selected_features_mask = rfe_selector.support_\n",
    "\n",
    "# Mendapatkan indeks dari fitur-fitur yang terpilih\n",
    "selected_features_indices = np.where(selected_features_mask)[0]\n",
    "\n",
    "# Mendapatkan nama fitur-fitur yang terpilih\n",
    "selected_feature_names = X.columns[selected_features_indices]\n",
    "\n",
    "print(\"Selected Features by RFE:\", selected_feature_names)"
   ]
  },
  {
   "cell_type": "code",
   "execution_count": 20,
   "metadata": {},
   "outputs": [],
   "source": [
    "from sklearn.linear_model import LogisticRegression\n",
    "from sklearn.feature_selection import RFE\n",
    "\n",
    "rfe = RandomForestClassifier()\n",
    "\n",
    "rfe = RFE(estimator=rfe, n_features_to_select=16, step=1)\n",
    "rfe.fit(X_train, y_train)\n",
    "\n",
    "X_train_transform = rfe.transform(X_train)"
   ]
  },
  {
   "cell_type": "code",
   "execution_count": 21,
   "metadata": {},
   "outputs": [
    {
     "data": {
      "text/plain": [
       "array([ True, False, False, False, False, False, False, False, False,\n",
       "       False, False,  True, False,  True,  True,  True,  True,  True,\n",
       "        True,  True, False, False, False, False, False, False, False,\n",
       "       False, False, False,  True, False,  True, False,  True,  True,\n",
       "        True,  True,  True])"
      ]
     },
     "execution_count": 21,
     "metadata": {},
     "output_type": "execute_result"
    }
   ],
   "source": [
    "rfe.support_"
   ]
  },
  {
   "cell_type": "code",
   "execution_count": 22,
   "metadata": {},
   "outputs": [
    {
     "data": {
      "text/plain": [
       "39"
      ]
     },
     "execution_count": 22,
     "metadata": {},
     "output_type": "execute_result"
    }
   ],
   "source": [
    "# len(rfe.support_)\n",
    "len(df.columns[1:])"
   ]
  },
  {
   "cell_type": "code",
   "execution_count": 23,
   "metadata": {},
   "outputs": [
    {
     "data": {
      "text/plain": [
       "Index(['blueWins', 'blueTotalGold', 'blueTotalExperience',\n",
       "       'blueTotalMinionsKilled', 'blueTotalJungleMinionsKilled',\n",
       "       'blueGoldDiff', 'blueExperienceDiff', 'blueCSPerMin', 'blueGoldPerMin',\n",
       "       'redTotalGold', 'redTotalExperience', 'redTotalJungleMinionsKilled',\n",
       "       'redGoldDiff', 'redExperienceDiff', 'redCSPerMin', 'redGoldPerMin'],\n",
       "      dtype='object')"
      ]
     },
     "execution_count": 23,
     "metadata": {},
     "output_type": "execute_result"
    }
   ],
   "source": [
    "df.columns[1:][rfe.support_]"
   ]
  },
  {
   "attachments": {},
   "cell_type": "markdown",
   "metadata": {},
   "source": [
    "## 5. Modelling and Evaluation"
   ]
  },
  {
   "cell_type": "code",
   "execution_count": null,
   "metadata": {},
   "outputs": [],
   "source": [
    "disp = ConfusionMatrixDisplay(confusion_matrix=cm, display_labels=['Class 0', 'Class 1'])\n",
    "\n",
    "# Atur parameter tampilan sesuai keinginan Anda\n",
    "disp.plot(cmap=plt.cm.Blues, values_format='d')  # cmap mengontrol skala warna, values_format mengontrol format teks\n",
    "disp.ax_.set_title('Confusion Matrix')"
   ]
  },
  {
   "cell_type": "code",
   "execution_count": 162,
   "metadata": {},
   "outputs": [],
   "source": [
    "from sklearn.metrics import precision_score, accuracy_score, f1_score, roc_auc_score\n",
    "from sklearn.metrics import confusion_matrix, ConfusionMatrixDisplay\n",
    "from sklearn.model_selection import cross_val_score\n",
    "\n",
    "# Function to display accuracy, precision, f-1 score\n",
    "def evaluation_metrics_score(y_pred) :\n",
    "    \n",
    "    cm = confusion_matrix(y_test, y_pred)\n",
    "\n",
    "    # Set theme color and figsize\n",
    "    plt.figure(figsize=(10, 10)) \n",
    "    display = ConfusionMatrixDisplay(confusion_matrix=cm)\n",
    "\n",
    "    # Set the theme color (e.g., using cmap)\n",
    "    display.plot(cmap='rocket_r')  \n",
    "    plt.title('Confusion Matrix')\n",
    "    \n",
    "    accuracy = accuracy_score(y_test, y_pred)\n",
    "    precision = precision_score(y_test, y_pred)\n",
    "    f1 = f1_score(y_test, y_pred)\n",
    "\n",
    "    print(f\"~ ~ Evaluation Metrics Score ~ ~\")\n",
    "    print(f\"Precision: {np.round(precision, 3) * 100}\")\n",
    "    print(f\"Accuracy: {np.round(accuracy, 3) * 100}\")\n",
    "    print(f\"F1 Score: {np.round(f1, 3) * 100}\")"
   ]
  },
  {
   "cell_type": "markdown",
   "metadata": {},
   "source": [
    "### KNN"
   ]
  },
  {
   "cell_type": "code",
   "execution_count": 24,
   "metadata": {},
   "outputs": [
    {
     "name": "stderr",
     "output_type": "stream",
     "text": [
      "C:\\Users\\marse\\AppData\\Local\\Temp\\ipykernel_1148\\675930151.py:2: SettingWithCopyWarning: \n",
      "A value is trying to be set on a copy of a slice from a DataFrame.\n",
      "Try using .loc[row_indexer,col_indexer] = value instead\n",
      "\n",
      "See the caveats in the documentation: https://pandas.pydata.org/pandas-docs/stable/user_guide/indexing.html#returning-a-view-versus-a-copy\n",
      "  df_test['blueWins'] = y\n"
     ]
    }
   ],
   "source": [
    "df_test = df[filtered_X]\n",
    "df_test['blueWins'] = y"
   ]
  },
  {
   "cell_type": "code",
   "execution_count": 25,
   "metadata": {},
   "outputs": [],
   "source": [
    "X = df_test.drop('blueWins', axis=1)\n",
    "y = df_test['blueWins']\n",
    "\n",
    "X_train, X_test, y_train, y_test = train_test_split(X, y, test_size = 0.25)"
   ]
  },
  {
   "cell_type": "code",
   "execution_count": 124,
   "metadata": {},
   "outputs": [],
   "source": [
    "from sklearn.neighbors import KNeighborsClassifier\n",
    "\n",
    "knn = KNeighborsClassifier()\n",
    "knn.fit(X_train, y_train)\n",
    "y_pred_knn = knn.predict(X_test)\n",
    "\n",
    "accuracy_knn = np.round(accuracy_score(y_test, y_pred_knn), 4) * 100"
   ]
  },
  {
   "cell_type": "code",
   "execution_count": 163,
   "metadata": {},
   "outputs": [
    {
     "name": "stdout",
     "output_type": "stream",
     "text": [
      "~ ~ Evaluation Metrics Score ~ ~\n",
      "Precision: 67.9\n",
      "Accuracy: 68.4\n",
      "F1 Score: 68.4\n"
     ]
    },
    {
     "data": {
      "text/plain": [
       "<Figure size 720x720 with 0 Axes>"
      ]
     },
     "metadata": {},
     "output_type": "display_data"
    },
    {
     "data": {
      "image/png": "[encoded data removed]",
      "text/plain": [
       "<Figure size 432x288 with 2 Axes>"
      ]
     },
     "metadata": {
      "needs_background": "light"
     },
     "output_type": "display_data"
    }
   ],
   "source": [
    "evaluation_metrics_score(y_pred_knn)"
   ]
  },
  {
   "cell_type": "markdown",
   "metadata": {},
   "source": [
    "### Logistic Regression"
   ]
  },
  {
   "cell_type": "code",
   "execution_count": 125,
   "metadata": {},
   "outputs": [],
   "source": [
    "from sklearn.linear_model import LogisticRegression\n",
    "\n",
    "lr = LogisticRegression(max_iter=1000) \n",
    "lr.fit(X_train, y_train)\n",
    "y_pred_lr = lr.predict(X_test)\n",
    "\n",
    "accuracy_lr = np.round(accuracy_score(y_test, y_pred_lr), 4) * 100"
   ]
  },
  {
   "cell_type": "code",
   "execution_count": 164,
   "metadata": {},
   "outputs": [
    {
     "name": "stdout",
     "output_type": "stream",
     "text": [
      "~ ~ Evaluation Metrics Score ~ ~\n",
      "Precision: 70.89999999999999\n",
      "Accuracy: 71.7\n",
      "F1 Score: 72.0\n"
     ]
    },
    {
     "data": {
      "text/plain": [
       "<Figure size 720x720 with 0 Axes>"
      ]
     },
     "metadata": {},
     "output_type": "display_data"
    },
    {
     "data": {
      "image/png": "[encoded data removed]",
      "text/plain": [
       "<Figure size 432x288 with 2 Axes>"
      ]
     },
     "metadata": {
      "needs_background": "light"
     },
     "output_type": "display_data"
    }
   ],
   "source": [
    "evaluation_metrics_score(y_pred_lr)"
   ]
  },
  {
   "cell_type": "markdown",
   "metadata": {},
   "source": [
    "### Decision Tree Classification"
   ]
  },
  {
   "cell_type": "code",
   "execution_count": 127,
   "metadata": {},
   "outputs": [],
   "source": [
    "from sklearn.tree import DecisionTreeClassifier\n",
    "\n",
    "dtc = DecisionTreeClassifier()\n",
    "dtc.fit(X_train, y_train)\n",
    "y_pred_dtc = dtc.predict(X_test)\n",
    "\n",
    "accuracy_dtc = np.round(accuracy_score(y_test, y_pred_dtc), 4) * 100"
   ]
  },
  {
   "cell_type": "code",
   "execution_count": 165,
   "metadata": {},
   "outputs": [
    {
     "name": "stdout",
     "output_type": "stream",
     "text": [
      "~ ~ Evaluation Metrics Score ~ ~\n",
      "Precision: 63.0\n",
      "Accuracy: 63.0\n",
      "F1 Score: 62.4\n"
     ]
    },
    {
     "data": {
      "text/plain": [
       "<Figure size 720x720 with 0 Axes>"
      ]
     },
     "metadata": {},
     "output_type": "display_data"
    },
    {
     "data": {
      "image/png": "[encoded data removed]",
      "text/plain": [
       "<Figure size 432x288 with 2 Axes>"
      ]
     },
     "metadata": {
      "needs_background": "light"
     },
     "output_type": "display_data"
    }
   ],
   "source": [
    "evaluation_metrics_score(y_pred_dtc)"
   ]
  },
  {
   "cell_type": "markdown",
   "metadata": {},
   "source": [
    "### Random Forest"
   ]
  },
  {
   "cell_type": "code",
   "execution_count": 128,
   "metadata": {},
   "outputs": [],
   "source": [
    "from sklearn.ensemble import RandomForestClassifier\n",
    "\n",
    "rfc = RandomForestClassifier()\n",
    "rfc.fit(X_train, y_train)\n",
    "y_pred_rfc = rfc.predict(X_test)\n",
    "\n",
    "accuracy_rfc = np.round(accuracy_score(y_test, y_pred_rfc), 4) * 100"
   ]
  },
  {
   "cell_type": "code",
   "execution_count": 166,
   "metadata": {},
   "outputs": [
    {
     "name": "stdout",
     "output_type": "stream",
     "text": [
      "~ ~ Evaluation Metrics Score ~ ~\n",
      "Precision: 70.19999999999999\n",
      "Accuracy: 70.8\n",
      "F1 Score: 70.8\n"
     ]
    },
    {
     "data": {
      "text/plain": [
       "<Figure size 720x720 with 0 Axes>"
      ]
     },
     "metadata": {},
     "output_type": "display_data"
    },
    {
     "data": {
      "image/png": "[encoded data removed]",
      "text/plain": [
       "<Figure size 432x288 with 2 Axes>"
      ]
     },
     "metadata": {
      "needs_background": "light"
     },
     "output_type": "display_data"
    }
   ],
   "source": [
    "evaluation_metrics_score(y_pred_rfc)"
   ]
  },
  {
   "cell_type": "markdown",
   "metadata": {},
   "source": [
    "### Naive Bayes"
   ]
  },
  {
   "cell_type": "code",
   "execution_count": 129,
   "metadata": {},
   "outputs": [],
   "source": [
    "from sklearn.naive_bayes import GaussianNB\n",
    "\n",
    "nb = GaussianNB()\n",
    "nb.fit(X_train, y_train)\n",
    "y_pred_nb = nb.predict(X_test)\n",
    "\n",
    "accuracy_nb = np.round(accuracy_score(y_test, y_pred_nb), 4) * 100"
   ]
  },
  {
   "cell_type": "code",
   "execution_count": 132,
   "metadata": {},
   "outputs": [],
   "source": [
    "from sklearn.naive_bayes import MultinomialNB\n",
    "\n",
    "mnb = MultinomialNB()\n",
    "mnb.fit(X_train, y_train)\n",
    "y_pred_mnb = mnb.predict(X_test)\n",
    "\n",
    "accuracy_mnb = np.round(accuracy_score(y_test, y_pred_mnb), 4) * 100"
   ]
  },
  {
   "cell_type": "code",
   "execution_count": 133,
   "metadata": {},
   "outputs": [
    {
     "data": {
      "text/plain": [
       "71.46000000000001"
      ]
     },
     "execution_count": 133,
     "metadata": {},
     "output_type": "execute_result"
    }
   ],
   "source": [
    "accuracy_mnb"
   ]
  },
  {
   "cell_type": "code",
   "execution_count": 167,
   "metadata": {},
   "outputs": [
    {
     "name": "stdout",
     "output_type": "stream",
     "text": [
      "~ ~ Evaluation Metrics Score ~ ~\n",
      "Precision: 71.3\n",
      "Accuracy: 72.0\n",
      "F1 Score: 72.1\n"
     ]
    },
    {
     "data": {
      "text/plain": [
       "<Figure size 720x720 with 0 Axes>"
      ]
     },
     "metadata": {},
     "output_type": "display_data"
    },
    {
     "data": {
      "image/png": "[encoded data removed]",
      "text/plain": [
       "<Figure size 432x288 with 2 Axes>"
      ]
     },
     "metadata": {
      "needs_background": "light"
     },
     "output_type": "display_data"
    }
   ],
   "source": [
    "evaluation_metrics_score(y_pred_nb)"
   ]
  },
  {
   "cell_type": "markdown",
   "metadata": {},
   "source": [
    "### Gradient Boosting "
   ]
  },
  {
   "cell_type": "code",
   "execution_count": 130,
   "metadata": {},
   "outputs": [],
   "source": [
    "from sklearn.ensemble import GradientBoostingClassifier\n",
    "\n",
    "gbc = GradientBoostingClassifier()\n",
    "gbc.fit(X_train, y_train)\n",
    "y_pred_gbc = gbc.predict(X_test)\n",
    "\n",
    "accuracy_gbc = np.round(accuracy_score(y_test, y_pred_gbc), 4) * 100"
   ]
  },
  {
   "cell_type": "code",
   "execution_count": 168,
   "metadata": {},
   "outputs": [
    {
     "name": "stdout",
     "output_type": "stream",
     "text": [
      "~ ~ Evaluation Metrics Score ~ ~\n",
      "Precision: 70.8\n",
      "Accuracy: 71.7\n",
      "F1 Score: 72.0\n"
     ]
    },
    {
     "data": {
      "text/plain": [
       "<Figure size 720x720 with 0 Axes>"
      ]
     },
     "metadata": {},
     "output_type": "display_data"
    },
    {
     "data": {
      "image/png": "[encoded data removed]",
      "text/plain": [
       "<Figure size 432x288 with 2 Axes>"
      ]
     },
     "metadata": {
      "needs_background": "light"
     },
     "output_type": "display_data"
    }
   ],
   "source": [
    "evaluation_metrics_score(y_pred_gbc)"
   ]
  },
  {
   "cell_type": "markdown",
   "metadata": {},
   "source": [
    "### Evaluation"
   ]
  },
  {
   "cell_type": "code",
   "execution_count": 131,
   "metadata": {},
   "outputs": [
    {
     "data": {
      "text/html": [
       "<div>\n",
       "<style scoped>\n",
       "    .dataframe tbody tr th:only-of-type {\n",
       "        vertical-align: middle;\n",
       "    }\n",
       "\n",
       "    .dataframe tbody tr th {\n",
       "        vertical-align: top;\n",
       "    }\n",
       "\n",
       "    .dataframe thead th {\n",
       "        text-align: right;\n",
       "    }\n",
       "</style>\n",
       "<table border=\"1\" class=\"dataframe\">\n",
       "  <thead>\n",
       "    <tr style=\"text-align: right;\">\n",
       "      <th></th>\n",
       "      <th>Model</th>\n",
       "      <th>Accuracy Score</th>\n",
       "    </tr>\n",
       "  </thead>\n",
       "  <tbody>\n",
       "    <tr>\n",
       "      <th>0</th>\n",
       "      <td>Naive Bayes</td>\n",
       "      <td>71.98</td>\n",
       "    </tr>\n",
       "    <tr>\n",
       "      <th>1</th>\n",
       "      <td>Logistic Regression</td>\n",
       "      <td>71.74</td>\n",
       "    </tr>\n",
       "    <tr>\n",
       "      <th>2</th>\n",
       "      <td>Gradient Boosting</td>\n",
       "      <td>71.74</td>\n",
       "    </tr>\n",
       "    <tr>\n",
       "      <th>3</th>\n",
       "      <td>Random Forest</td>\n",
       "      <td>70.77</td>\n",
       "    </tr>\n",
       "    <tr>\n",
       "      <th>4</th>\n",
       "      <td>KNN</td>\n",
       "      <td>68.38</td>\n",
       "    </tr>\n",
       "    <tr>\n",
       "      <th>5</th>\n",
       "      <td>Decision Tree</td>\n",
       "      <td>63.00</td>\n",
       "    </tr>\n",
       "  </tbody>\n",
       "</table>\n",
       "</div>"
      ],
      "text/plain": [
       "                 Model  Accuracy Score\n",
       "0          Naive Bayes           71.98\n",
       "1  Logistic Regression           71.74\n",
       "2    Gradient Boosting           71.74\n",
       "3        Random Forest           70.77\n",
       "4                  KNN           68.38\n",
       "5        Decision Tree           63.00"
      ]
     },
     "execution_count": 131,
     "metadata": {},
     "output_type": "execute_result"
    }
   ],
   "source": [
    "df_accuracy_score = pd.DataFrame({\n",
    "    'Model' : ['KNN', 'Logistic Regression', 'Decision Tree', 'Random Forest', 'Naive Bayes', 'Gradient Boosting'],\n",
    "    'Accuracy Score' : [accuracy_knn, accuracy_lr, accuracy_dtc, accuracy_rfc, accuracy_nb, accuracy_gbc]\n",
    "})\n",
    "\n",
    "df_accuracy_score.sort_values(by='Accuracy Score', ascending=False).reset_index(drop=True)"
   ]
  },
  {
   "cell_type": "code",
   "execution_count": 141,
   "metadata": {},
   "outputs": [
    {
     "name": "stdout",
     "output_type": "stream",
     "text": [
      "Hyperparameter terbaik: {'var_smoothing': 1e-09}\n",
      "Skor terbaik: 72.89999999999999\n"
     ]
    }
   ],
   "source": [
    "from sklearn.model_selection import GridSearchCV\n",
    "\n",
    "param_grid = {\n",
    "    'var_smoothing': [1e-9, 1e-8, 1e-7, 1e-6, 1e-5]\n",
    "}\n",
    "\n",
    "grid_search = GridSearchCV(nb, param_grid, cv=5, scoring='accuracy')\n",
    "grid_search.fit(X_train, y_train)\n",
    "\n",
    "# Menampilkan hyperparameter terbaik dan skor terbaik\n",
    "print(f\"Hyperparameter terbaik: {grid_search.best_params_}\")\n",
    "print(f\"Skor terbaik: {np.round(grid_search.best_score_, 3) * 100}\")"
   ]
  },
  {
   "cell_type": "markdown",
   "metadata": {},
   "source": [
    "<b>Kesimpulan</b> :\n",
    "\n",
    "Berdasarkan dataframe diatas, dapat dilihat bahwa model dengan accuracy score tertinggi adalah <b>Naive Bayes</b> yaitu di angka 71.98 %. Dimana score ini tanpa melakukan hyperparameter tuning & cross validation.\n",
    "\n",
    "Setelah dilakukan hyperparameter tuning & cross validation. Score accuracy yang didapat menjadi 72.89 %, yaitu terjadi kenaikan 1 %. Namun supaya score accuracy-nya lebih baik lagi, harus dicari parameter yang terbaik lagi. Karena parameter yang saya gunakan, hanya parameter 'var_smoothing'. Jadi harus ditambah lagi & disesuaikan lagi dengan data yang digunakan.\n",
    "\n",
    "=> Oleh karena itu, model yang disarankan atau terbaik yang digunakan adalah model <u>Naive Bayes</u>"
   ]
  }
 ],
 "metadata": {
  "kernelspec": {
   "display_name": "Python 3",
   "language": "python",
   "name": "python3"
  },
  "language_info": {
   "codemirror_mode": {
    "name": "ipython",
    "version": 3
   },
   "file_extension": ".py",
   "mimetype": "text/x-python",
   "name": "python",
   "nbconvert_exporter": "python",
   "pygments_lexer": "ipython3",
   "version": "3.10.7"
  },
  "vscode": {
   "interpreter": {
    "hash": "5e70fd34aa919644e731ce0c71c5ec6c66d3b48eb7909f9a04da7ee7076ef028"
   }
  }
 },
 "nbformat": 4,
 "nbformat_minor": 4
}
